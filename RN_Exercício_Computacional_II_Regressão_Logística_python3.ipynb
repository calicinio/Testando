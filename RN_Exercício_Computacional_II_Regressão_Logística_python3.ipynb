{
  "nbformat": 4,
  "nbformat_minor": 0,
  "metadata": {
    "colab": {
      "name": "RN - Exercício Computacional II - Regressão Logística python3.ipynb",
      "version": "0.3.2",
      "provenance": [],
      "collapsed_sections": []
    },
    "kernelspec": {
      "display_name": "Python [conda root]",
      "language": "python",
      "name": "conda-root-py"
    }
  },
  "cells": [
    {
      "cell_type": "markdown",
      "metadata": {
        "id": "view-in-github",
        "colab_type": "text"
      },
      "source": [
        "[View in Colaboratory](https://colab.research.google.com/github/calicinio/Testando/blob/master/RN_Exerc%C3%ADcio_Computacional_II_Regress%C3%A3o_Log%C3%ADstica_python3.ipynb)"
      ]
    },
    {
      "metadata": {
        "id": "pkTYhkCkVhkp",
        "colab_type": "text"
      },
      "cell_type": "markdown",
      "source": [
        "# Exercício Computacional II - Regressão Logística\n",
        "\n",
        "## Descrição\n",
        "\n",
        "Nesse exercício iremos revisar o conteúdo do segundo módulo da disciplina. \n",
        "\n",
        "Iremos abordar os seguintes tópicos:\n",
        "\n",
        "* Regressão Logística\n",
        "* Gradiente Ascendente\n",
        "* Aplicação em reconhecimento de caracteres\n",
        "\n",
        "Para isso vocês irão utilizar as bibliotecas de programação científica da linguagem python (pandas, numpy, matplotlib, etc)."
      ]
    },
    {
      "metadata": {
        "id": "XxDB4KhyVhks",
        "colab_type": "text"
      },
      "cell_type": "markdown",
      "source": [
        "Inicialmente, iremos carregar todas as bibliotecas que iremos utilizar.\n",
        "Execute o trecho de código abaixo para carregá-las (para executar uma célula, selecione-a e pressione ctrl+enter)"
      ]
    },
    {
      "metadata": {
        "id": "9ZRRvn6gVhkt",
        "colab_type": "code",
        "colab": {}
      },
      "cell_type": "code",
      "source": [
        "%matplotlib inline\n",
        "\n",
        "import matplotlib.pyplot as plt\n",
        "import numpy as np\n",
        "import pandas as pd\n",
        "import matplotlib.gridspec as gridspec\n",
        "from mpl_toolkits.mplot3d import Axes3D\n",
        "from matplotlib import cm\n",
        "from IPython import display\n",
        "\n",
        "np.random.seed(1)"
      ],
      "execution_count": 0,
      "outputs": []
    },
    {
      "metadata": {
        "id": "kxrtbsebVhkx",
        "colab_type": "text"
      },
      "cell_type": "markdown",
      "source": [
        "Nesse exercício iremos utilizar o modelo de regressão logística para resolver problemas de classificação de padrões. \n",
        "\n",
        "Os parâmetros do modelo serão estimados pelo estimador de máxima verossimilhança. Utilizaremos o algoritmo do gradiente ascendente para encontrar os parâmetros relacionados ao valor ótimo da verossimilhança iterativamente.\n",
        "\n",
        "Uma vez validado o algoritmo, iremos utilizá-lo para construir um modelo que analisa a imagem de um dígito escrito à mão e avalia se o número correspondente é par ou ímpar."
      ]
    },
    {
      "metadata": {
        "id": "epRiuEnAVhkz",
        "colab_type": "text"
      },
      "cell_type": "markdown",
      "source": [
        "### Função Logística\n",
        "\n",
        "Inicialmente,  você deve implementar a função logística, dada por:\n",
        "\n",
        "\\begin{equation}\n",
        "g(z) = \\frac{1}{1 + exp(-z)}\n",
        "\\end{equation}\n",
        "\n",
        "Uma vez implementada a função e executada a célula, você deverá ser capaz de visualizar uma figura similar à figura abaixo:\n",
        "\n",
        "<img src=\"http://test.solnix.com.br/img/logistic_function.png\">\n"
      ]
    },
    {
      "metadata": {
        "id": "O9UpBKx1Vhkz",
        "colab_type": "code",
        "colab": {
          "base_uri": "https://localhost:8080/",
          "height": 282
        },
        "outputId": "f8713bbc-70c5-431d-c700-cf4ac8b6a4d5"
      },
      "cell_type": "code",
      "source": [
        "def sigm(z):\n",
        "    g = 1/(1 + np.exp(-z))\n",
        "    return g;\n",
        "\n",
        "z = np.linspace(-10, 10, 100)\n",
        "y = sigm(z)\n",
        "plt.plot(z, y)"
      ],
      "execution_count": 30,
      "outputs": [
        {
          "output_type": "execute_result",
          "data": {
            "text/plain": [
              "[<matplotlib.lines.Line2D at 0x7f20e2776790>]"
            ]
          },
          "metadata": {
            "tags": []
          },
          "execution_count": 30
        },
        {
          "output_type": "display_data",
          "data": {
            "image/png": "[encoded data removed]",
            "text/plain": [
              "<matplotlib.figure.Figure at 0x7f20e2714f90>"
            ]
          },
          "metadata": {
            "tags": []
          }
        }
      ]
    },
    {
      "metadata": {
        "id": "83cF_hQGVhk2",
        "colab_type": "text"
      },
      "cell_type": "markdown",
      "source": [
        "### Visualização dos Dados\n",
        "\n",
        "Em seguida, você irá realizar uma análise gráfica visual de um problema de classificação de padrões binário composto por um conjunto de amostras bidimensionais geradas artificialmente.\n",
        "\n",
        "O código abaixo gera as amostras do problema a ser analisado. As amostras são definidas como pares de entradas e saída correspondente:  $(\\mathbf{x_i}, y_i; i \\in 1, \\cdots, n)$, onde $\\mathbf{x_i} \\in \\mathbb{R}^2$, $y_i \\in \\{0, 1\\}$ e $n$ corresponde ao número de amostras. \n",
        "\n",
        "As entradas são armazenadas em uma matriz $X$ de dimensão $n \\times d+1$, sendo que a primeira coluna é referente aos valores de $x_{i0}=1$ para $i \\in 1, \\cdots, n$. \n",
        "\n",
        "As saídas são armazenadas em um vetor $y$ contendo $n$ valores."
      ]
    },
    {
      "metadata": {
        "id": "ra01oKS3Vhk4",
        "colab_type": "code",
        "colab": {}
      },
      "cell_type": "code",
      "source": [
        "n = 200\n",
        "d = 2;\n",
        "\n",
        "sigma = 0.04\n",
        "Sigma = sigma*np.eye(d)\n",
        "mu1 = [0, 1]\n",
        "mu2 = [1, 0]\n",
        "\n",
        "x1 = np.random.multivariate_normal(mu1, list(Sigma), int(n/2))\n",
        "x2 = np.random.multivariate_normal(mu2, list(Sigma), int(n/2))\n",
        "\n",
        "# Dados de entrada\n",
        "X = np.r_[x1,x2]\n",
        "\n",
        "# Insere-se uma coluna de 1s correspondente aos x_{i0}=1\n",
        "X = np.c_[np.ones(n), X]\n",
        "\n",
        "# Saídas correspondentes\n",
        "y = np.r_[np.zeros(int(n/2)), np.ones(int(n/2))]"
      ],
      "execution_count": 0,
      "outputs": []
    },
    {
      "metadata": {
        "id": "p-_EqkAvVhk8",
        "colab_type": "text"
      },
      "cell_type": "markdown",
      "source": [
        "Uma vez gerado os dados,  você deve implementar uma função que recebe como argumentos a matriz contendo os dados de entrada $X$ e  vetor com as saídas correspondentes $y$ e plote as amostras em um gráfico de $x_{i1}$ em função de $x_{i2}$. \n",
        "\n",
        "Caso a saída correspondente à amostra seja $1$, esta deve ser plotada em vermelho e, caso contrário, em azul.\n",
        "\n",
        "Uma vez implementada a função e executada a célula abaixo, você deve ser capaz de visualizar uma figura similar à:\n",
        "\n",
        "<img src=\"http://test.solnix.com.br/img/samples_2d.png\">"
      ]
    },
    {
      "metadata": {
        "id": "WFs70poRVhk-",
        "colab_type": "code",
        "colab": {
          "base_uri": "https://localhost:8080/",
          "height": 266
        },
        "outputId": "978115af-90c3-48d9-cf52-73d8311d9721"
      },
      "cell_type": "code",
      "source": [
        "def plot_samples(X, y):\n",
        "  for i in range(0, len(y)):\n",
        "    if y[i] == 0:\n",
        "      plt.plot(X[i,1], X[i,2], 'bo')\n",
        "    else:\n",
        "      plt.plot(X[i,1], X[i,2], 'ro')\n",
        "  \n",
        "    \n",
        "plot_samples(X,y)"
      ],
      "execution_count": 32,
      "outputs": [
        {
          "output_type": "display_data",
          "data": {
            "image/png": "[encoded data removed]",
            "text/plain": [
              "<matplotlib.figure.Figure at 0x7f20dfefa810>"
            ]
          },
          "metadata": {
            "tags": []
          }
        }
      ]
    },
    {
      "metadata": {
        "id": "HsniKFyYVhlB",
        "colab_type": "text"
      },
      "cell_type": "markdown",
      "source": [
        "### Região de Decisão do Modelo\n",
        "\n",
        "Inicialmente, iremos utilizar a implementação do modelo da regressão logística presente na biblioteca *scikit-learn* (http://scikit-learn.org/). \n",
        "\n",
        "Essa biblioteca é parte da distribuição *Anaconda* e implementa diversos modelos e algoritmos de aprendizado. Incluindo os modelos vistos nas últimas aulas, tais como: regressão linear, regressão logística, perceptron e o algoritmo do gradiente descendente.\n",
        "\n",
        "Iremos estimar um modelo de regressão logística para os dados bidimencionais que estamos analisando."
      ]
    },
    {
      "metadata": {
        "id": "f5L6FHtIVhlC",
        "colab_type": "code",
        "colab": {
          "base_uri": "https://localhost:8080/",
          "height": 86
        },
        "outputId": "ba9114b4-e56e-4261-dcab-bd4174cf9c17"
      },
      "cell_type": "code",
      "source": [
        "#Importa o modelo da regressão logística presente na biblioteca\n",
        "from sklearn.linear_model import LogisticRegression\n",
        "\n",
        "# Controi um objeto do tipo LogistiRegression que representa o modelo\n",
        "model = LogisticRegression()\n",
        "\n",
        "# Estima os parâmetros do modelo a partir das amostras \n",
        "model.fit(X[:,1:],y)"
      ],
      "execution_count": 33,
      "outputs": [
        {
          "output_type": "execute_result",
          "data": {
            "text/plain": [
              "LogisticRegression(C=1.0, class_weight=None, dual=False, fit_intercept=True,\n",
              "          intercept_scaling=1, max_iter=100, multi_class='ovr', n_jobs=1,\n",
              "          penalty='l2', random_state=None, solver='liblinear', tol=0.0001,\n",
              "          verbose=0, warm_start=False)"
            ]
          },
          "metadata": {
            "tags": []
          },
          "execution_count": 33
        }
      ]
    },
    {
      "metadata": {
        "id": "ySMQodazVhlE",
        "colab_type": "text"
      },
      "cell_type": "markdown",
      "source": [
        "Uma vez estimado o modelo, iremos extrair o vetor de parâmetros estimados, $\\mathbf{\\theta}$."
      ]
    },
    {
      "metadata": {
        "id": "QAZ2EOIQVhlG",
        "colab_type": "code",
        "colab": {
          "base_uri": "https://localhost:8080/",
          "height": 34
        },
        "outputId": "53cc57ef-098d-416c-8574-afa9d386e493"
      },
      "cell_type": "code",
      "source": [
        "theta = np.r_[model.intercept_, model.coef_[0]]\n",
        "print(theta)"
      ],
      "execution_count": 34,
      "outputs": [
        {
          "output_type": "stream",
          "text": [
            "[ 0.03440589  3.47228575 -3.5225572 ]\n"
          ],
          "name": "stdout"
        }
      ]
    },
    {
      "metadata": {
        "id": "SBMWn3YSVhlJ",
        "colab_type": "text"
      },
      "cell_type": "markdown",
      "source": [
        "Dado os parâmetros, você deve implementar uma função que plote as amostras em duas dimensões e a reta que representa  a fronteira da região de decisão do classificador.\n",
        "\n",
        "Conforme visto em aula, a reta é dada por:\n",
        "\n",
        "\\begin{equation}\n",
        "x_2 = -\\frac{\\theta_0}{\\theta_2} - \\frac{\\theta_1}{\\theta_2} x_1\n",
        "\\end{equation}\n",
        "\n",
        "Implemente a função abaixo que recebe como argumentos a matriz de entradas $X$, o vetor de saídas correspondentes $y$ e o vetor de parâmetros $\\mathbf{\\theta}$ e plote as amostras em duas dimensões e a reta referente a região de decisão (utilize a função *plot_samples* como parte da sua implementação).\n",
        "\n",
        "Uma vez implementada a função e executada a célula, você deve ser capaz de visualizar uma figura similar à figura abaixo:\n",
        "\n",
        "<img src=\"http://test.solnix.com.br/img/decision_line.png\">"
      ]
    },
    {
      "metadata": {
        "id": "BEhjsn89VhlK",
        "colab_type": "code",
        "colab": {
          "base_uri": "https://localhost:8080/",
          "height": 265
        },
        "outputId": "e6521cf4-2864-4c0f-b2b2-db0cd6a4e405"
      },
      "cell_type": "code",
      "source": [
        "def plot_decision_surface(X, y, theta):\n",
        "    x1 = np.linspace(X[:,1].min(), X[:,1].max())\n",
        "    x2 = -(theta[0]/theta[2]) - (theta[2]/theta[1]) * x1\n",
        "    \n",
        "    plot_samples(X, y)\n",
        "    plt.plot(x1, x2)\n",
        "    \n",
        "\n",
        "\n",
        "plot_decision_surface(X,y,theta)"
      ],
      "execution_count": 35,
      "outputs": [
        {
          "output_type": "display_data",
          "data": {
            "image/png": "[encoded data removed]",
            "text/plain": [
              "<matplotlib.figure.Figure at 0x7f20e2836850>"
            ]
          },
          "metadata": {
            "tags": []
          }
        }
      ]
    },
    {
      "metadata": {
        "id": "ny6xc7SvVhlN",
        "colab_type": "text"
      },
      "cell_type": "markdown",
      "source": [
        "###  Gradiente Ascendente\n",
        "\n",
        "Agora, você irá implementar a sua versão do algoritmo do gradiente ascendente para estimar os parâmetros da regressão logística."
      ]
    },
    {
      "metadata": {
        "id": "zVegidexVhlP",
        "colab_type": "text"
      },
      "cell_type": "markdown",
      "source": [
        "Inicialmente, você deve implementar uma função que calcule a saída correspondente do modelo para um conjunto de entradas  $X$, dado um vetor de parâmetros $\\theta$.\n",
        "\n",
        "Lembre-se que a saída do modelo para cada padrão de entrada, isto é, para cada linha da matriz $X$, é dada por:\n",
        "\n",
        "\\begin{equation}\n",
        "\\hat{y}_i = \\frac{1}{1 + \\exp (-\\mathbf{x_i}^T\\theta)}\n",
        "\\end{equation}"
      ]
    },
    {
      "metadata": {
        "id": "_pfQgCJWVhlR",
        "colab_type": "code",
        "colab": {}
      },
      "cell_type": "code",
      "source": [
        "def compute_yhat(X,theta):\n",
        "    yhat = 1 / (1 + np.exp( np.dot(-X, theta)))\n",
        "    return yhat\n",
        "\n",
        "y_hat = compute_yhat(X,theta)\n",
        "\n",
        "\n",
        "assert y_hat.shape[0] == X.shape[0]\n",
        "assert np.max(y_hat) <= 1\n",
        "assert np.min(y_hat) >= 0\n",
        "assert np.abs(y_hat[100]-0.933873877649) <= 0.001"
      ],
      "execution_count": 0,
      "outputs": []
    },
    {
      "metadata": {
        "id": "mtlj7m-BVhlW",
        "colab_type": "text"
      },
      "cell_type": "markdown",
      "source": [
        "Em seguida, você deve implementar uma função que estime o gradiente da log verossimilhança do modelo da regressão logística.\n",
        "\n",
        "Lembre-se que a derivada parcial da log verossmilhança em relação a cada um dos parâmetros $\\theta_j$ para $j=0,\\cdots,d$ (nesse problema $d=2$) é dado por:\n",
        "\n",
        "\\begin{equation}\n",
        "\\frac{\\partial \\ell(\\theta)}{\\partial \\theta_j} = \\sum_{i=1}^n (y_i - g(\\mathbf{x_i}^T \\theta))x_{ij}\n",
        "\\end{equation}\n",
        "\n",
        "O vetor gradiente resultante deve ter $d+1$ valores (no problema em questão d=2), sendo o $j$-ésimo valor definido como  $\\frac{\\partial \\ell(\\theta)}{\\partial \\theta_j}$ \n"
      ]
    },
    {
      "metadata": {
        "id": "oEJwIIG8VhlX",
        "colab_type": "code",
        "colab": {}
      },
      "cell_type": "code",
      "source": [
        "def compute_grad(X,y,theta):\n",
        "    n = X.shape[0]\n",
        "    yhat = compute_yhat(X,theta)\n",
        "    grad = (y - yhat).dot(X)\n",
        "    return grad\n",
        "\n",
        "grad = compute_grad(X,y,theta)\n",
        "\n",
        "assert grad.shape[0] == d+1\n",
        "assert np.abs(grad[1]-3.47234789) <= 0.001"
      ],
      "execution_count": 0,
      "outputs": []
    },
    {
      "metadata": {
        "id": "twrv8OBsVhlb",
        "colab_type": "text"
      },
      "cell_type": "markdown",
      "source": [
        "Em seguida, você irá implementar uma função que calcula o valor da log verossimilhança do modelo da regressão logística.\n",
        "\n",
        "A log verossimilhança é dada por:\n",
        "\n",
        "\\begin{equation}\n",
        "\\ell(\\theta) = \\sum_{i=1}^n y_i \\log(g(\\mathbf{x_i}^T \\theta)) + (1-y_i) \\log(1-g(\\mathbf{x_i}^T \\theta))\n",
        "\\end{equation}"
      ]
    },
    {
      "metadata": {
        "id": "MUcI_x2AVhlc",
        "colab_type": "code",
        "colab": {}
      },
      "cell_type": "code",
      "source": [
        "def compute_loglike(X,y,theta):\n",
        "    yhat = compute_yhat(X, theta)\n",
        "    loglike = np.dot(y, np.log(yhat)) + np.dot( 1 - y, np.log(1 - yhat))\n",
        "    return loglike\n",
        "\n",
        "loglike = compute_loglike(X,y,theta)\n",
        "\n",
        "assert np.abs(loglike+11.175104346) < 0.001"
      ],
      "execution_count": 0,
      "outputs": []
    },
    {
      "metadata": {
        "id": "Wr4YqwN9Vhlh",
        "colab_type": "text"
      },
      "cell_type": "markdown",
      "source": [
        "Agora, você já possui todas as funções necessárias para que a função abaixo que implementa o algoritmo do gradiente ascedente funcione.\n",
        "\n",
        "Lembre-se que esse algoritmo visa encontrar, de forma iterativa, o valor ótimo dos parâmetros que maximiza a log verossimilhança do modelo. \n",
        "\n",
        "\n",
        "A função abaixo implementa o algoritmo do gradiente ascedente para estimar os parâmetros do modelo da regressão logística. \n",
        "\n",
        "Os argumentos de entrada da função são: a matriz de entradas $X$, o vetor de saídas correspondentes $y$, o valor da taxa de aprendizado $\\alpha$ e o número máximo de iterações *max_iter*. \n",
        "\n",
        "A função retorna o vetor ótimo dos parâmetros, $\\theta$. \n",
        "\n",
        "Além disso, a função plota os resultados intermediários ao longo da execução."
      ]
    },
    {
      "metadata": {
        "id": "J-zEomIAVhlh",
        "colab_type": "code",
        "colab": {}
      },
      "cell_type": "code",
      "source": [
        "def gradient_ascent(X,y,alpha=0.01, max_iter = 50):\n",
        "    # Número de amostras\n",
        "    n = X.shape[0]\n",
        "    \n",
        "    # Dimensão dos dados\n",
        "    d = X.shape[1]-1    \n",
        "    \n",
        "    # Valor inicial dos parâmetros é definido como um valor aleatório com \n",
        "    # distribuição uniforme no intervalo [-1,1]\n",
        "    theta = np.random.uniform(-1.0, 1.0, d+1)\n",
        "\n",
        "    # O Algoritmo terá duas condições de parada:\n",
        "    #  - norma do vetor gradiente menor que o limiar epsilon\n",
        "    #  - número de iterações maior que max_iter\n",
        "    # Número máximo de iterações\n",
        "    iter = 0\n",
        "    # Parâmetro que defini o limiar utilizado para definir a condição de parada do algoritmo\n",
        "    epsilon = 1e-5\n",
        "    \n",
        "    # Figura utilizada para plotar os resultados parciais do algoritmo\n",
        "    if d==2:\n",
        "        plt.figure(figsize=(15,10))\n",
        "    else:\n",
        "        plt.figure(figsize=(15,5))\n",
        "    # A figura é dividida em 4 subplots\n",
        "    gs = gridspec.GridSpec(2,2)\n",
        "    # Caso d != 2 a figura é dividida em apenas 2 subplots,\n",
        "    # pois não é possível visualizar os dados\n",
        "    if d!=2:\n",
        "        gs = gridspec.GridSpec(1,2)\n",
        "\n",
        "    # Vetores que irão armazenar os valores da log verossmilhança e \n",
        "    # da norma do vetor de gradiente ao longo das iterações \n",
        "    loglike = np.zeros(max_iter)\n",
        "    gradient_norm = np.zeros(max_iter)\n",
        "    \n",
        "    print y.shape\n",
        "    \n",
        "    while (np.linalg.norm(compute_grad(X,y,theta)) > epsilon and iter < max_iter):\n",
        "\n",
        "        # Embaralha as linhas da matriz de entrada X e as saídas correspondentes à cada iteração\n",
        "        seq = np.random.permutation(n)\n",
        "        X = X[seq,:]\n",
        "        y = y[seq]\n",
        "        \n",
        "        # Calcula o gradiente da função\n",
        "        grad = compute_grad(X,y,theta)\n",
        "        \n",
        "        # Atualiza os parâmetros do modelo\n",
        "        theta = theta + alpha*grad\n",
        "        \n",
        "        # Armazena os valores da log verossimilhança e da norma\n",
        "        # do vetor gradiente\n",
        "        loglike[iter] = compute_loglike(X,y, theta)\n",
        "        gradient_norm[iter] = np.linalg.norm(grad)\n",
        "        \n",
        "        # Plota os resultados a cada iteração\n",
        "        plot_idx = 0;\n",
        "            \n",
        "        if (d==2):\n",
        "            # Plota os dados e a reta que define a fronteira da região de decisão\n",
        "            # do classificador caso os dados sejam bidimensionais\n",
        "            plt.subplot(gs[plot_idx])\n",
        "            plt.cla()\n",
        "            plot_decision_surface(X,y, theta)\n",
        "            plt.title('Iteration: %d - theta: [%.5f %.5f %.5f]'%\n",
        "                (iter+1, theta[0], theta[1], theta[2]))\n",
        "            plot_idx = plot_idx + 1\n",
        "            \n",
        "        # Plota a norma do vetor gradiente ao longo das iterações\n",
        "        plt.subplot(gs[plot_idx])\n",
        "        plt.semilogy(gradient_norm[:iter], 'k-')\n",
        "        plt.xlabel('Iteration')\n",
        "        plt.ylabel('Gradient Norm')\n",
        "        plt.title('Gradient Norm vs Iterations')\n",
        "        plot_idx = plot_idx + 1\n",
        "        \n",
        "        # Plota a log verossimilhaça do modelo ao longo das iterações\n",
        "        plt.subplot(gs[plot_idx])\n",
        "        plt.plot(loglike[:iter] , 'k-')\n",
        "        plt.xlabel('Iteration')\n",
        "        plt.ylabel('Log Likelihood')\n",
        "        plt.title('Log Likelihood vs Iterations %.4f'%(loglike[iter]))\n",
        "        plot_idx = plot_idx + 1\n",
        "            \n",
        "        display.clear_output(wait=True)\n",
        "        display.display(plt.gcf())\n",
        "            \n",
        "        iter = iter + 1\n",
        "           \n",
        "    display.clear_output(wait=True)\n",
        "    \n",
        "    if (d==2):\n",
        "        # Plota os contornos da saída do modelo\n",
        "        x1s, x2s = np.mgrid[x1.min()-1:x1.max()+1:0.1, x2.min()-1:x2.max()+1:0.1]\n",
        "        zs = sigm(theta[1]*x1s + x2s*theta[2] + theta[0])\n",
        "        N = zs/zs.max()\n",
        "        plt.subplot(gs[3])\n",
        "        plt.contourf(x1s,x2s, zs, np.linspace(zs.min(), zs.max(), 30))\n",
        "        plt.scatter(X[:,1],X[:,2], color ='k')\n",
        "        plt.xlabel('x1')\n",
        "        plt.ylabel('x2')\n",
        "    return theta"
      ],
      "execution_count": 0,
      "outputs": []
    },
    {
      "metadata": {
        "id": "0DnZ2fyeVhlm",
        "colab_type": "text"
      },
      "cell_type": "markdown",
      "source": [
        "Agora, você deve executar o algoritmo para os dados do problema que estamos analisando. \n",
        "\n",
        "Caso você tenha implementado as funções anteriores corretamente, você deverá ser capaz de visualizar uma animação e, ao final da execução, uma figura similar à figura abaixo:\n",
        "\n",
        "<img src=\"http://test.solnix.com.br/img/gradient_ascent_2d.png\">"
      ]
    },
    {
      "metadata": {
        "id": "xGP3JOV6Vhln",
        "colab_type": "code",
        "colab": {
          "base_uri": "https://localhost:8080/",
          "height": 620
        },
        "outputId": "ac5f5974-ea5c-4320-e429-9576f4a535c4"
      },
      "cell_type": "code",
      "source": [
        "theta = gradient_ascent(X,y)"
      ],
      "execution_count": 40,
      "outputs": [
        {
          "output_type": "display_data",
          "data": {
            "image/png": "[encoded data removed]",
            "text/plain": [
              "<matplotlib.figure.Figure at 0x7f20e25e7610>"
            ]
          },
          "metadata": {
            "tags": []
          }
        }
      ]
    },
    {
      "metadata": {
        "id": "oGNg1gbjVhlr",
        "colab_type": "text"
      },
      "cell_type": "markdown",
      "source": [
        "### Classificação de Imagens de Dígitos\n",
        "\n",
        "Agora você irá utilizar a sua implementação do algoritmo do gradiente ascendente para construir um modelo baseado em regressão logística que seja capaz de, dado uma imagem de um dígito, estimar se o número correspondente é par ou ímpar.\n",
        "\n",
        "Para isso iremos utilizar a base de dados de dígitos da biblioteca *scikit-learn*.\n",
        "\n",
        "Essa base possui $1797$ imagens de dígitos com anotações do número correspondente. Cada imagem tem resolução de $8\\times8$ píxeis.\n",
        "\n",
        "O código abaixo carrega a base de dados e plota as primeiras $10$ imagens da base."
      ]
    },
    {
      "metadata": {
        "id": "7JifMFzsVhlt",
        "colab_type": "code",
        "colab": {
          "base_uri": "https://localhost:8080/",
          "height": 159
        },
        "outputId": "ae395f99-d315-4963-cd24-27ff30a34b88"
      },
      "cell_type": "code",
      "source": [
        "from sklearn.datasets import load_digits\n",
        "\n",
        "digits = load_digits()\n",
        "plt.figure(figsize=(5,2))\n",
        "gs = gridspec.GridSpec(3,4)\n",
        "for i in range(10):\n",
        "    plt.subplot(gs[i])\n",
        "    plt.axis('off')\n",
        "    plt.imshow(digits.images[i], cmap=plt.cm.gray_r, interpolation='nearest')"
      ],
      "execution_count": 41,
      "outputs": [
        {
          "output_type": "display_data",
          "data": {
            "image/png": "[encoded data removed]",
            "text/plain": [
              "<matplotlib.figure.Figure at 0x7f20e5e6d490>"
            ]
          },
          "metadata": {
            "tags": []
          }
        }
      ]
    },
    {
      "metadata": {
        "id": "F48B-VHDVhl0",
        "colab_type": "text"
      },
      "cell_type": "markdown",
      "source": [
        "Cada imagem é representada por uma matriz de dimensões $8\\times8$, sendo que cada elmeneto da matriz corresponde a intensidade do píxel correspondente em uma escala de tons de cinza variando de 0 a 15 (0=branco, 15=preto). \n",
        "\n",
        "A primeira imagem da base corresponde à seguinte matriz:"
      ]
    },
    {
      "metadata": {
        "id": "87y7s84HVhl0",
        "colab_type": "code",
        "colab": {
          "base_uri": "https://localhost:8080/",
          "height": 216
        },
        "outputId": "ebc1fd5c-e515-4af2-cdc0-d20cd43c4c7b"
      },
      "cell_type": "code",
      "source": [
        "plt.figure(figsize=(0.5,0.5))\n",
        "plt.axis('off')\n",
        "plt.imshow(digits.images[0], cmap=plt.cm.gray_r, interpolation='nearest')\n",
        "plt.show()\n",
        "\n",
        "print(digits.images[0])"
      ],
      "execution_count": 42,
      "outputs": [
        {
          "output_type": "display_data",
          "data": {
            "image/png": "[encoded data removed]",
            "text/plain": [
              "<matplotlib.figure.Figure at 0x7f210b378550>"
            ]
          },
          "metadata": {
            "tags": []
          }
        },
        {
          "output_type": "stream",
          "text": [
            "[[ 0.  0.  5. 13.  9.  1.  0.  0.]\n",
            " [ 0.  0. 13. 15. 10. 15.  5.  0.]\n",
            " [ 0.  3. 15.  2.  0. 11.  8.  0.]\n",
            " [ 0.  4. 12.  0.  0.  8.  8.  0.]\n",
            " [ 0.  5.  8.  0.  0.  9.  8.  0.]\n",
            " [ 0.  4. 11.  0.  1. 12.  7.  0.]\n",
            " [ 0.  2. 14.  5. 10. 12.  0.  0.]\n",
            " [ 0.  0.  6. 13. 10.  0.  0.  0.]]\n"
          ],
          "name": "stdout"
        }
      ]
    },
    {
      "metadata": {
        "id": "igKK3J9eVhl2",
        "colab_type": "text"
      },
      "cell_type": "markdown",
      "source": [
        "Para que você possa utilizar seu modelo para estimar a paridade dos dígitos, as entradas correspondentes a cada  uma das imagens devem ser convertidas de uma matriz para um vetor. \n",
        "\n",
        "A base de dados de dígitos disponível na biblioteca *scikitlearn* já possui todos os valores convertidos para vetores no campo *digits.data*, por exemplo, a matriz acima corresponde ao seguinte vetor contendo $64$ elementos:"
      ]
    },
    {
      "metadata": {
        "id": "9lhbodG4Vhl5",
        "colab_type": "code",
        "colab": {
          "base_uri": "https://localhost:8080/",
          "height": 104
        },
        "outputId": "e1b83dae-de47-4ee9-a5ab-e2324b9a56cb"
      },
      "cell_type": "code",
      "source": [
        "print(digits.data[0].shape)\n",
        "print(digits.data[0])"
      ],
      "execution_count": 43,
      "outputs": [
        {
          "output_type": "stream",
          "text": [
            "(64,)\n",
            "[ 0.  0.  5. 13.  9.  1.  0.  0.  0.  0. 13. 15. 10. 15.  5.  0.  0.  3.\n",
            " 15.  2.  0. 11.  8.  0.  0.  4. 12.  0.  0.  8.  8.  0.  0.  5.  8.  0.\n",
            "  0.  9.  8.  0.  0.  4. 11.  0.  1. 12.  7.  0.  0.  2. 14.  5. 10. 12.\n",
            "  0.  0.  0.  0.  6. 13. 10.  0.  0.  0.]\n"
          ],
          "name": "stdout"
        }
      ]
    },
    {
      "metadata": {
        "id": "6fvl1QbfVhl9",
        "colab_type": "text"
      },
      "cell_type": "markdown",
      "source": [
        "Dessa forma, os vetores serão definidos como entradas do modelo. \n",
        "\n",
        "Porém, antes de treinar o modelo, os dados devem ser normalizados. A normalização dos dados facilita a convergência do algoritmo do gradiente ascendente.\n",
        "\n",
        "Iremos normalizar os vetores de entrada para que estes tenham média zero e variância unitária. Para isso iremos utilizar a função *preprocessing.scale* da biblioteca *scikit-learn*.\n",
        "\n",
        "Primeiro, leia a documentação da função presente no link abaixo (inicio da seção 4.3):\n",
        "\n",
        "http://scikit-learn.org/stable/modules/preprocessing.html\n",
        "\n",
        "Em seguida, crie um vetor denominado *digits_data* contendo os dados normalizados"
      ]
    },
    {
      "metadata": {
        "id": "SOUwhGD9Vhl-",
        "colab_type": "code",
        "colab": {}
      },
      "cell_type": "code",
      "source": [
        "from sklearn import preprocessing\n",
        "from sklearn.preprocessing import normalize\n",
        "\n",
        "digits_data = preprocessing.scale(digits.data)"
      ],
      "execution_count": 0,
      "outputs": []
    },
    {
      "metadata": {
        "id": "LIKnkyKVVhmB",
        "colab_type": "text"
      },
      "cell_type": "markdown",
      "source": [
        "A anotação do número correspondente a cada imagem está presente no campo *digits.target*, por exemplo:"
      ]
    },
    {
      "metadata": {
        "id": "Ymwzn4g2VhmC",
        "colab_type": "code",
        "colab": {
          "base_uri": "https://localhost:8080/",
          "height": 94
        },
        "outputId": "47954cc8-2182-46b9-989e-32d5a5813ec3"
      },
      "cell_type": "code",
      "source": [
        "plt.figure(figsize=(0.5,0.5))\n",
        "plt.axis('off')\n",
        "plt.imshow(digits.images[0], cmap=plt.cm.gray_r, interpolation='nearest')\n",
        "plt.show()\n",
        "\n",
        "print('Número:'+str(digits.target[0]))"
      ],
      "execution_count": 45,
      "outputs": [
        {
          "output_type": "display_data",
          "data": {
            "image/png": "[encoded data removed]",
            "text/plain": [
              "<matplotlib.figure.Figure at 0x7f20dfe6f590>"
            ]
          },
          "metadata": {
            "tags": []
          }
        },
        {
          "output_type": "stream",
          "text": [
            "Número:0\n"
          ],
          "name": "stdout"
        }
      ]
    },
    {
      "metadata": {
        "id": "7BN6Lo9wVhmE",
        "colab_type": "text"
      },
      "cell_type": "markdown",
      "source": [
        "Utilize os dados normalizados presentes na variável *digits_data* e as anotações para criar uma matriz de entradas $X$ e um vetor de saídas correspondentes $y$.\n",
        "\n",
        "Para criar a matriz de entradas você terá que incluir a coluna de 1s correspondentes aos valores de $x_{i0}$ na matriz $X$. \n",
        "\n",
        "Já o vetor de saídas correspondentes será composto por valores binários, sendo que o valor $0$ corresponde a um dígito ímpar e o valor $1$ a um dígito par."
      ]
    },
    {
      "metadata": {
        "id": "2x8RpNr-VhmE",
        "colab_type": "code",
        "colab": {}
      },
      "cell_type": "code",
      "source": [
        "n = digits_data.shape[0]\n",
        "\n",
        "uns = np.ones(n)\n",
        "\n",
        "#matriz com vetores de entrada\n",
        "X = np.c_[uns, digits_data]\n",
        "\n",
        "#retorna todos os indices dos numeros pares\n",
        "idx_par = np.where(digits.target%2 == 0)\n",
        "\n",
        "y = np.zeros(n)\n",
        "y[idx_par] = 1\n"
      ],
      "execution_count": 0,
      "outputs": []
    },
    {
      "metadata": {
        "id": "QMB6f-uVVhmH",
        "colab_type": "text"
      },
      "cell_type": "markdown",
      "source": [
        "Divida os dados em um conjunto de treinamento e teste. Utilize $80\\%$ das amostras no conjunto de treinamento e o restante no conjunto de teste (você pode utilizar a função que você criou no exercício anterior)."
      ]
    },
    {
      "metadata": {
        "id": "yL5WZH9QVhmI",
        "colab_type": "code",
        "colab": {}
      },
      "cell_type": "code",
      "source": [
        "ntrain = int(n*0.8)\n",
        "\n",
        "Xtrain = X[:][0:ntrain]\n",
        "ytrain = y[0:ntrain]\n",
        "\n",
        "Xtest = X[:][ntrain+1:]\n",
        "ytest = y[ntrain+1:]\n"
      ],
      "execution_count": 0,
      "outputs": []
    },
    {
      "metadata": {
        "id": "2A2vWrPxVhmK",
        "colab_type": "text"
      },
      "cell_type": "markdown",
      "source": [
        "Estime os parâmetros do modelo utilizando as amostras do conjunto de treinamento"
      ]
    },
    {
      "metadata": {
        "id": "EYzQOpgpVhmL",
        "colab_type": "code",
        "colab": {
          "base_uri": "https://localhost:8080/",
          "height": 349
        },
        "outputId": "9e86e858-06ab-4845-f665-2e1593d181f3"
      },
      "cell_type": "code",
      "source": [
        "theta = gradient_ascent(Xtrain, ytrain, alpha = 0.001, max_iter=50)"
      ],
      "execution_count": 48,
      "outputs": [
        {
          "output_type": "display_data",
          "data": {
            "image/png": "[encoded data removed]",
            "text/plain": [
              "<matplotlib.figure.Figure at 0x7f20dfe6f990>"
            ]
          },
          "metadata": {
            "tags": []
          }
        }
      ]
    },
    {
      "metadata": {
        "id": "oy3H85CcVhmT",
        "colab_type": "text"
      },
      "cell_type": "markdown",
      "source": [
        "Agora você deve avaliar o quão bom é o seu modelo. Para isso calcule a saída estimada do seu modelo para o conjunto de testes e calcule quantos erros o seu modelo cometeu. \n",
        "\n",
        "Utilize os valores de referência (*ytest*) para estimar os erros para dígitos pares e ímpares separadamente, isto é, você deve estimar a porcentagem de imagens correspondentes a números pares que seu modelo classificou incorretamente como ímpar, e a porcentagem de imagens correspondentes a números ímpares que o seu modelo classificou incorretamente como par.\n",
        "\n",
        "Porém, antes de estimar as porcentagens, você deve converter a saída do seu modelo para valores binários. A saída do seu modelo corresponde a um valor escalar no intervalo $[0,1]$. Você deve converter para valores binários $\\{0,1\\}$. Para isso utilize a regra vista em aula, ou seja, a saída binária será $0$, caso a saída escalar for menor ou igual a $0.5$, e $1$, caso contrário."
      ]
    },
    {
      "metadata": {
        "id": "QZgl6NMMVhmT",
        "colab_type": "code",
        "colab": {
          "base_uri": "https://localhost:8080/",
          "height": 52
        },
        "outputId": "05a94580-f2b9-422b-c1a2-7d59ec444ccf"
      },
      "cell_type": "code",
      "source": [
        "yhat = compute_yhat(Xtest, theta)\n",
        "\n",
        "idx_yhat_1 = np.where(yhat <= 0.5)\n",
        "\n",
        "yhat_bin = np.zeros(len(yhat))\n",
        "yhat_bin[idx_yhat_1] = 1\n",
        "\n",
        "#retorna todos os indices dos numeros pares\n",
        "idx_par_test = np.where(ytest == 1)\n",
        "idx_impar_test = np.where(ytest == 0)\n",
        "\n",
        "#divide o total de acertos pelo total de que deveria acertar\n",
        "odd_err_perc = sum(yhat_bin[idx_par_test]) / len(idx_par_test[0]) * 100\n",
        "#subtrai o somatorio do valor total de indices e divide pelo total de acertos\n",
        "even_err_perc = (len(idx_impar_test[0]) - sum(yhat_bin[idx_impar_test])) / len(idx_impar_test[0]) * 100\n",
        "\n",
        "print('Percentagem dos dígitos ímpares classificados incorretamente: '+str(odd_err_perc))\n",
        "print('Percentagem dos dígitos pares classificados incorretamente: '+str(even_err_perc))"
      ],
      "execution_count": 49,
      "outputs": [
        {
          "output_type": "stream",
          "text": [
            "Percentagem dos dígitos ímpares classificados incorretamente: 8.522727272727272\n",
            "Percentagem dos dígitos pares classificados incorretamente: 9.836065573770492\n"
          ],
          "name": "stdout"
        }
      ]
    },
    {
      "metadata": {
        "id": "RG4UXJjlVhmb",
        "colab_type": "text"
      },
      "cell_type": "markdown",
      "source": [
        "Finalmente, você pode testar seu modelo visualizando as imagens de entrada e a saída do seu modelo.\n",
        "\n",
        "O código abaixo seleciona uma imagem aleatória do conjunto de testes e apresenta a estimativa do seu modelo, o valor esperado e a imagem."
      ]
    },
    {
      "metadata": {
        "id": "EDTkhg7ZVhmc",
        "colab_type": "code",
        "colab": {
          "base_uri": "https://localhost:8080/",
          "height": 155
        },
        "outputId": "3ebae8c3-f66a-49d6-cfc1-97feb3ef429d"
      },
      "cell_type": "code",
      "source": [
        "test_images = digits.images[ntrain:]\n",
        "test_label = digits.target[ntrain:]\n",
        "\n",
        "img_idx = int(np.random.uniform(0, 358))\n",
        "\n",
        "plt.figure(figsize=(1,1))\n",
        "plt.axis('off')\n",
        "plt.imshow(test_images[img_idx], cmap=plt.cm.gray_r, interpolation='nearest')\n",
        "print('Indice da Imagem     : '+str(img_idx))\n",
        "print('Estimativa do Modelo : '+('Par' if yhat_bin[img_idx] else 'Impar'))\n",
        "print('Valor esperado       : '+('Par' if ytest[img_idx] else 'Impar')+' (Dígito '+str(test_label[img_idx])+')')"
      ],
      "execution_count": 65,
      "outputs": [
        {
          "output_type": "stream",
          "text": [
            "Indice da Imagem     : 131\n",
            "Estimativa do Modelo : Impar\n",
            "Valor esperado       : Par (Dígito 5)\n"
          ],
          "name": "stdout"
        },
        {
          "output_type": "display_data",
          "data": {
            "image/png": "[encoded data removed]",
            "text/plain": [
              "<matplotlib.figure.Figure at 0x7f20e80615d0>"
            ]
          },
          "metadata": {
            "tags": []
          }
        }
      ]
    }
  ]
}