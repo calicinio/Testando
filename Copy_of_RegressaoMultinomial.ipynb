{
  "nbformat": 4,
  "nbformat_minor": 0,
  "metadata": {
    "colab": {
      "name": "Copy of RegressaoMultinomial.ipynb",
      "version": "0.3.2",
      "provenance": [],
      "collapsed_sections": []
    },
    "kernelspec": {
      "display_name": "Python 2",
      "language": "python",
      "name": "python2"
    }
  },
  "cells": [
    {
      "cell_type": "markdown",
      "metadata": {
        "id": "view-in-github",
        "colab_type": "text"
      },
      "source": [
        "[View in Colaboratory](https://colab.research.google.com/github/calicinio/Testando/blob/master/Copy_of_RegressaoMultinomial.ipynb)"
      ]
    },
    {
      "metadata": {
        "id": "fN7vav3496O9",
        "colab_type": "text"
      },
      "cell_type": "markdown",
      "source": [
        "# Grupo 2\n",
        "\n",
        "Fellipe Fernandes Goulart dos Santos \\\\\n",
        "Josué Fernando Leal Granados \\\\\n",
        "Pedro Henrique da Cruz Santos \\\\\n",
        "Walace da Silva Castro\n",
        "\n",
        "Email: pedrohcs89santos@gmail.com \n",
        "\n",
        "# Regressão Multinomial\n",
        "\n",
        "## Introdução\n",
        "\n",
        "A regressão logística é uma técnica estatística utilizada para solucionar  problemas de classificação binária e de regressão. Quando a variável de saída assume dois valores distintos, o problema de aprendizado é definido como um problema de classificação binária. Por outro lado, quando a  variável de saída é contínua, define-se o mesmo como um problema de regressão. \n",
        "\n",
        "Na sua forma mais geral, a regressão logística também pode ser utilizada para solucionar problemas de multi-classificação. Tal modelo é conhecido como regressão logística multinomial. Diferentemente da classificação binária, no problema de multi-classificação, a variável de saída pode assumir vários valores distintos. Pode-se citar, por exemplo, uma situação na qual é desejável identificar se um determinado animal é um tipo de cachorro, gato ou sapo (como ilustrado na figura abaixo).\n",
        "\n",
        "De forma geral, pode-se dizer que a regressão logística multinomial é uma generalização da regressão logística. A diferença entre ambas não está apenas no tipo de problema a ser resolvido (classificação binária e multi-classificação). Na regressão logística, por exemplo, a função que calcula as probabilidades dos possíveis resultados é a função *Sigmoid*. Na multinomial, por sua vez, a função aplicada é a função *Softmax*.\n",
        "\n",
        "Diante desse contexto, o presente notebook aborda os conceitos relacionados à regressão logística multinomial e a sua aplicação em problemas de multi-classificação. Inicialmente, uma introdução é realizada e um fluxograma do modelo é apresentado. Por fim, dois problemas de multi-classificação são utilizados para exemplificar a utilização dessa técnica.\n",
        "\n",
        "<img src=\"https://i0.wp.com/dataaspirant.com/wp-content/uploads/2017/03/Multinomial-Logistic-Regression-model.jpg?w=700&ssl=1\">\n",
        "\n",
        "## Fluxograma\n",
        "\n",
        "A imagem abaixo ilustra o fluxograma do modelo de regressão logística multinomial. Para simplificar o processo de compreensão, vamos dividir o classificador em diferentes estágios, desde as entradas até a saída do mesmo. Assim, é possível discutir cada estágio em detalhes.\n",
        "\n",
        "<img src=\"https://i2.wp.com/dataaspirant.com/wp-content/uploads/2017/03/Multinomial-Logistic-Classifier-compressor.jpg?w=700&ssl=1\">\n",
        "\n",
        "1.   **Entradas:** Como o próprio nome diz, são as entradas do modelo. Vale ressaltar que, caso haja uma variável categórica (e.g. gênero), por exemplo, a mesma deve ser codificada em valores numéricos para que o modelo possa funcionar de forma adequada. Esse pré-processamento de dados é exemplificado mais adiante neste notebook.\n",
        "\n",
        "2.   **Modelo Linear:** A equação do modelo linear é a mesma utilizada no modelo de regressão linear. Na qual: $X$ é o conjunto de entradas e $w$ e $b$ são os coeficientes. A partir daí, as saídas desse modelo são chamados de *scores* ou *logits*, os quais serão aplicados na função *Softmax*.\n",
        "\n",
        "3.    **Função Softmax:** A função *Softmax* é uma função probabilística que fornece as probabilidades a partir dos valores de *score*. De forma geral, essa função retorna um alto valor para o maior valor de *score*. Vale ainda ressaltar que as probabilidades calculadas estão na faixa de valores entre 0 e 1. Além disso, a soma de todas elas deve ser sempre igual a 1.\n",
        "\n",
        "4.  **Entropia Cruzada:** A entropia cruzada é a última etapa da regressão logística multinomial. Tal função é utilizada para encontrar a distância de similaridade entre as probabilidades calculadas a partir da função *Softmax* e a matriz *One-Hot-Encoding*. *One-Hot-Encoding* é um método para representar a saída (*targets*) em uma codificação binária. Neste caso, a saída deste método possui elementos binários (0 e 1), sendo 1 para a classe escolhida e 0 para as demais.\n",
        "\n",
        "É importante ressaltar que o processo de treinamento é feito conforme o valor da distância de similaridade. Para as classes corretas, tal distância terá menor valor. Caso contrário, os valores envolvidos serão maiores. Além disso, cada observação no conjunto de treinamento irá passar por todos os estágios mencionados no fluxograma. A partir daí, os valores dos pesos $w$ serão calculados e corrigidos pelo processo de otimização."
      ]
    },
    {
      "metadata": {
        "id": "ejeR-AzxMpmc",
        "colab_type": "text"
      },
      "cell_type": "markdown",
      "source": [
        "## Modelo\n",
        "\n",
        "### Modelo de Regressão Logística:\n",
        "\n",
        "O modelo de regressão logística (para problemas binários) relaciona $p$ variáveis independentes $x_1,x_2,...,x_p$ a uma variável dependente $Y$, a qual pode assumir dois estados possíveis (e. g. 0 ou 1). \n",
        "\n",
        "Em relação ao seu funcionamento, inicialmente, aplica-se o modelo linear associado a uma transformação conhecida como transformação *logit*, a qual é denotada por $g(x)$. Em seguida calcula-se o valor de probabilidade de ocorrência do evento baseado no valor de $g(x)$. O modelo matemático deste procedimento é apresentado abaixo:\n",
        "\n",
        "$g(x) = ln[\\frac{P(Y=1|x)}{P(Y=0|x)}]=\\beta_{10}+\\beta_{11}.x_1+\\beta_{12}.x_2+...+\\beta.x^{'}=x^{'}.\\beta$\n",
        "\n",
        "$P(Y=0|x) = \\frac{1}{1+e^{g(x)}}$\n",
        "\n",
        "$P(Y=1|x) = \\frac{e^{g(x)}}{1+e^{g(x)}}=1-P(Y=0|x)$\n",
        "\n",
        "Onde $\\beta$ são os parâmetros do modelo estimados pelo método de máxima verossimilhança. Vale ressaltar que a transformação *logit* é uma função linear nos parâmetros $\\beta$, contínua e que pode variar de $-\\infty$ a $+\\infty$.\n",
        "\n",
        "Em relação à função logística, existem pelo menos duas razões para a utilização da mesma na análise de variáveis-resposta dicotômicas:\n",
        "\n",
        "*   Do ponto de vista matemático, é extremamente flexível e fácil de ser utilizada;\n",
        "*   Permite uma interpretação de resultados bastante rica e direta.\n",
        "\t\n",
        "A figura abaixo apresenta a função logística $Psi$ com o seu característico formato em ‘S’ e a relação linear entre uma única variável $x$ e o *logit* $g(x)$.\n",
        "\n",
        "<img src=\"http://cmq.esalq.usp.br/BIE5781/lib/exe/fetch.php?media=historico:2014:ensaios:figura2.png\">\n",
        "\n",
        "### Modelo de Regressão Logística Multinomial:\n",
        "\n",
        "O modelo de regressão logística, originalmente desenvolvido para variáveis binárias, pode ser estendido para variáveis-resposta politômicas (três ou mais classes). Com o objetivo de mostrar seu funcionamento, considere um exemplo com apenas três classes, digamos $0$, $1$ e $2$.\n",
        "\n",
        "Neste caso, o modelo logístico terá duas funções *logit*: a razão entre $Y=1$ e $Y=0$ e a razão entre $Y=2$ e $Y=0$. Perceba que a classe $Y=0$ foi assumida como base ou referência. Assim, as duas funções *logit* são escritas como segue:\n",
        "\n",
        "$g_1(x) = ln[\\frac{P(Y=1|x)}{P(Y=0|x)}]=\\beta_{10}+\\beta_{11}.x_1+\\beta_{12}.x_2+...+\\beta_{1p}.x_p=x^{'}.\\beta_1$\n",
        "\n",
        "$g_2(x) = ln[\\frac{P(Y=2|x)}{P(Y=0|x)}]=\\beta_{20}+\\beta_{21}.x_1+\\beta_{22}.x_2+...+\\beta_{2p}.x_p=x^{'}.\\beta_2$\n",
        "\n",
        "A partir das funções lineares $g_i (x)$, cujos parâmetros $\\beta_1$ e $\\beta_2$ são estimados por máxima verossimilhança, é possível calcular as probabilidades condicionais de ocorrência de cada categoria de $Y$ dado um vetor de observações $x$. Isto é:\n",
        "\n",
        "$P(Y=0|x) = \\frac{1}{1+e^{g_1(x)}+e^{g_2(x)}}$\n",
        "\n",
        "$P(Y=1|x) = \\frac{e^{g_1(x)}}{1+e^{g_1(x)}+e^{g_2(x)}}$\n",
        "\n",
        "$P(Y=2|x) = \\frac{e^{g_2(x)}}{1+e^{g_1(x)}+e^{g_2(x)}}$\n",
        "\n",
        "De forma generalizada, na regressão logística para variáveis-resposta com $k$ classes sendo $k≥3$, a probabilidade de uma dada observação $x$ pertencer a uma das classes $y_i$ é estimada diretamente por meio da seguinte expressão:\n",
        "\n",
        "$P(Y=y_i|x) = \\frac{e^{g_i(x)}}{\\sum_{j=0}^{k-1}e^{g_j(x)}}$\n",
        "\n",
        "Onde a função *logit*, assumindo a classe $y_k$ como referência, é dada por:\n",
        "\n",
        "$g_i(x) = ln[\\frac{P(Y=y_i|x)}{P(Y=y_k|x)}]=\\beta_{i0}+\\beta_{i1}.x_1+\\beta_{i2}.x_2+...+\\beta_{ip}.x_p=x^{'}.\\beta_i$\n",
        "\n",
        "$i=1,2,...,k-1$\n",
        "\n",
        "$g_k(x)=0$\n",
        "\n",
        "Ressalta-se que no procedimento descrito até o momento, a probabilidade $P$ é calculada com uso da função *Softmax* (Etapa 3 do fluxograma). Sendo assim, ao considerar as classes $y_1,y_2,…,y_k$da variável dependente $Y$, podemos afirmar que:\n",
        "\n",
        "$\\sum_{i=1}^{k}P(y_i|x)=1$\n",
        "\n",
        "A partir dessas probabilidades, a regra de classificação para alocar uma observação $x$ numa determinada classe $y_i$ é muito simples e é apresentada abaixo:\n",
        "\n",
        "$x \\in y_i se P(y_i|x)>P(y_j|x)  \\forall j\\ne i$\n",
        "\n",
        "O processo de estimativa dos parâmetros em regressão logística é baseado na maximização da função de verossimilhança $l(x,\\beta)$. Para tornar possível a realização deste procedimento são necessárias $n$ amostras de treinamento $x_1,x_2,…,x_n$, cujas classes a que pertencem são conhecidas. Além disso, os vetores solução $b_i$ que maximizam a função $l(x,\\beta)$ são aqueles que tornam máxima a probabilidade da particular amostra de treinamento ter sido selecionada. "
      ]
    },
    {
      "metadata": {
        "id": "sRcck1i3ubd9",
        "colab_type": "text"
      },
      "cell_type": "markdown",
      "source": [
        "## Bibliotecas:\n",
        "\n",
        "Neste notebook, inicialmente importaremos alguns métodos que serão utilizados ao longo deste notebook. "
      ]
    },
    {
      "metadata": {
        "id": "wBW2bWKQ96O_",
        "colab_type": "code",
        "colab": {}
      },
      "cell_type": "code",
      "source": [
        "import pandas as pd\n",
        "import numpy as np\n",
        "import seaborn as sns\n",
        "from scipy import stats\n",
        "import matplotlib.pyplot as plt\n",
        "from sklearn import linear_model\n",
        "from sklearn.metrics import r2_score, mean_absolute_error\n",
        "from sklearn.model_selection import train_test_split\n",
        "from sklearn import preprocessing\n",
        "from sklearn import metrics\n",
        "import plotly.graph_objs as go\n",
        "import plotly.plotly as py\n",
        "from plotly.graph_objs import *\n",
        "py.sign_in('Your_ployly_username', 'API_key')"
      ],
      "execution_count": 0,
      "outputs": []
    },
    {
      "metadata": {
        "id": "jDBO2WY6vQsU",
        "colab_type": "text"
      },
      "cell_type": "markdown",
      "source": [
        "## Base de Dados: Abalone\n",
        "\n",
        "A seguir, vamos utilizar o modelo de regressão logística multinomial por meio da biblioteca scikit-learn. Como problema de multi-classificação, utiliza-se o conjunto de dados Abalone disponível no UCI Machine Learning Repository (Repositório de Aprendizado de Máquina da UCI. Irvine, CA: Universidade da Califórnia, School of Information and Computer Science), e presente no seguinte link: http://archive.ics.uci.edu/ml/datasets/Abalone.\n"
      ]
    },
    {
      "metadata": {
        "id": "-RWWuJ_evLoc",
        "colab_type": "code",
        "colab": {
          "base_uri": "https://localhost:8080/",
          "height": 206
        },
        "outputId": "b6621e17-cd7e-4fbd-b27d-bfbbdf1da88e"
      },
      "cell_type": "code",
      "source": [
        "#Inicialmente o conjunto de dados Abalone é carregado\n",
        "\n",
        "abalone = pd.read_csv('https://archive.ics.uci.edu/ml/machine-learning-databases/abalone/abalone.data',\n",
        "                        names=['Sex','Length','Diameter','Height',\n",
        "                                             'Whole Weight','Shucked Weight',\n",
        "                                             'Viscera Weight','Shell Weight',\n",
        "                                             'Rings'])\n",
        "abalone.head()"
      ],
      "execution_count": 2,
      "outputs": [
        {
          "output_type": "execute_result",
          "data": {
            "text/html": [
              "<div>\n",
              "<style scoped>\n",
              "    .dataframe tbody tr th:only-of-type {\n",
              "        vertical-align: middle;\n",
              "    }\n",
              "\n",
              "    .dataframe tbody tr th {\n",
              "        vertical-align: top;\n",
              "    }\n",
              "\n",
              "    .dataframe thead th {\n",
              "        text-align: right;\n",
              "    }\n",
              "</style>\n",
              "<table border=\"1\" class=\"dataframe\">\n",
              "  <thead>\n",
              "    <tr style=\"text-align: right;\">\n",
              "      <th></th>\n",
              "      <th>Sex</th>\n",
              "      <th>Length</th>\n",
              "      <th>Diameter</th>\n",
              "      <th>Height</th>\n",
              "      <th>Whole Weight</th>\n",
              "      <th>Shucked Weight</th>\n",
              "      <th>Viscera Weight</th>\n",
              "      <th>Shell Weight</th>\n",
              "      <th>Rings</th>\n",
              "    </tr>\n",
              "  </thead>\n",
              "  <tbody>\n",
              "    <tr>\n",
              "      <th>0</th>\n",
              "      <td>M</td>\n",
              "      <td>0.455</td>\n",
              "      <td>0.365</td>\n",
              "      <td>0.095</td>\n",
              "      <td>0.5140</td>\n",
              "      <td>0.2245</td>\n",
              "      <td>0.1010</td>\n",
              "      <td>0.150</td>\n",
              "      <td>15</td>\n",
              "    </tr>\n",
              "    <tr>\n",
              "      <th>1</th>\n",
              "      <td>M</td>\n",
              "      <td>0.350</td>\n",
              "      <td>0.265</td>\n",
              "      <td>0.090</td>\n",
              "      <td>0.2255</td>\n",
              "      <td>0.0995</td>\n",
              "      <td>0.0485</td>\n",
              "      <td>0.070</td>\n",
              "      <td>7</td>\n",
              "    </tr>\n",
              "    <tr>\n",
              "      <th>2</th>\n",
              "      <td>F</td>\n",
              "      <td>0.530</td>\n",
              "      <td>0.420</td>\n",
              "      <td>0.135</td>\n",
              "      <td>0.6770</td>\n",
              "      <td>0.2565</td>\n",
              "      <td>0.1415</td>\n",
              "      <td>0.210</td>\n",
              "      <td>9</td>\n",
              "    </tr>\n",
              "    <tr>\n",
              "      <th>3</th>\n",
              "      <td>M</td>\n",
              "      <td>0.440</td>\n",
              "      <td>0.365</td>\n",
              "      <td>0.125</td>\n",
              "      <td>0.5160</td>\n",
              "      <td>0.2155</td>\n",
              "      <td>0.1140</td>\n",
              "      <td>0.155</td>\n",
              "      <td>10</td>\n",
              "    </tr>\n",
              "    <tr>\n",
              "      <th>4</th>\n",
              "      <td>I</td>\n",
              "      <td>0.330</td>\n",
              "      <td>0.255</td>\n",
              "      <td>0.080</td>\n",
              "      <td>0.2050</td>\n",
              "      <td>0.0895</td>\n",
              "      <td>0.0395</td>\n",
              "      <td>0.055</td>\n",
              "      <td>7</td>\n",
              "    </tr>\n",
              "  </tbody>\n",
              "</table>\n",
              "</div>"
            ],
            "text/plain": [
              "  Sex  Length  Diameter  Height  Whole Weight  Shucked Weight  Viscera Weight  \\\n",
              "0   M   0.455     0.365   0.095        0.5140          0.2245          0.1010   \n",
              "1   M   0.350     0.265   0.090        0.2255          0.0995          0.0485   \n",
              "2   F   0.530     0.420   0.135        0.6770          0.2565          0.1415   \n",
              "3   M   0.440     0.365   0.125        0.5160          0.2155          0.1140   \n",
              "4   I   0.330     0.255   0.080        0.2050          0.0895          0.0395   \n",
              "\n",
              "   Shell Weight  Rings  \n",
              "0         0.150     15  \n",
              "1         0.070      7  \n",
              "2         0.210      9  \n",
              "3         0.155     10  \n",
              "4         0.055      7  "
            ]
          },
          "metadata": {
            "tags": []
          },
          "execution_count": 2
        }
      ]
    },
    {
      "metadata": {
        "id": "DoNdJKUawZPs",
        "colab_type": "text"
      },
      "cell_type": "markdown",
      "source": [
        "### Pré-processamento dos Dados: \n",
        "\n",
        "Ao observar os dados no conjunto Abalone, a maioria dos atributos são de natureza numérica, exceto pela variável \"Sexo\". Na qual é possível observar valores como: \"Masculino\", \"Feminino\" e \"Infantil\". Neste último caso, é interessante ressaltar que, quando jovem, o sexo de um abalone não é facilmente determinado e, por isso, utiliza-se o termo \"Infantil\". \n",
        "\n",
        "Diante disso, a variável \"Sexo\" pode ser codificada em outras três variáveis: “Masculino”, “Feminino” e “Infantil”. Dentre essas opções, um valor unitário indica que tal observação pertence à categoria em questão, e um valor nulo indica o contrário.\n"
      ]
    },
    {
      "metadata": {
        "id": "130HfKlVeNhF",
        "colab_type": "code",
        "colab": {
          "base_uri": "https://localhost:8080/",
          "height": 300
        },
        "outputId": "ede9cb60-dbf7-409b-d1c9-47b0ad5acedc"
      },
      "cell_type": "code",
      "source": [
        "#criando as novas variáveis\n",
        "abalone['Male'] = (abalone['Sex']=='M').astype(int)\n",
        "abalone['Female'] = (abalone['Sex']=='F').astype(int)\n",
        "abalone['Infant'] = (abalone['Sex']=='I').astype(int)\n",
        "\n",
        "#removendo a coluna \"sex\" do conjunto de dados\n",
        "abalone = abalone.drop(['Sex'],axis=1)\n",
        "abalone.describe()"
      ],
      "execution_count": 3,
      "outputs": [
        {
          "output_type": "execute_result",
          "data": {
            "text/html": [
              "<div>\n",
              "<style scoped>\n",
              "    .dataframe tbody tr th:only-of-type {\n",
              "        vertical-align: middle;\n",
              "    }\n",
              "\n",
              "    .dataframe tbody tr th {\n",
              "        vertical-align: top;\n",
              "    }\n",
              "\n",
              "    .dataframe thead th {\n",
              "        text-align: right;\n",
              "    }\n",
              "</style>\n",
              "<table border=\"1\" class=\"dataframe\">\n",
              "  <thead>\n",
              "    <tr style=\"text-align: right;\">\n",
              "      <th></th>\n",
              "      <th>Length</th>\n",
              "      <th>Diameter</th>\n",
              "      <th>Height</th>\n",
              "      <th>Whole Weight</th>\n",
              "      <th>Shucked Weight</th>\n",
              "      <th>Viscera Weight</th>\n",
              "      <th>Shell Weight</th>\n",
              "      <th>Rings</th>\n",
              "      <th>Male</th>\n",
              "      <th>Female</th>\n",
              "      <th>Infant</th>\n",
              "    </tr>\n",
              "  </thead>\n",
              "  <tbody>\n",
              "    <tr>\n",
              "      <th>count</th>\n",
              "      <td>4177.000000</td>\n",
              "      <td>4177.000000</td>\n",
              "      <td>4177.000000</td>\n",
              "      <td>4177.000000</td>\n",
              "      <td>4177.000000</td>\n",
              "      <td>4177.000000</td>\n",
              "      <td>4177.000000</td>\n",
              "      <td>4177.000000</td>\n",
              "      <td>4177.000000</td>\n",
              "      <td>4177.000000</td>\n",
              "      <td>4177.000000</td>\n",
              "    </tr>\n",
              "    <tr>\n",
              "      <th>mean</th>\n",
              "      <td>0.523992</td>\n",
              "      <td>0.407881</td>\n",
              "      <td>0.139516</td>\n",
              "      <td>0.828742</td>\n",
              "      <td>0.359367</td>\n",
              "      <td>0.180594</td>\n",
              "      <td>0.238831</td>\n",
              "      <td>9.933684</td>\n",
              "      <td>0.365813</td>\n",
              "      <td>0.312904</td>\n",
              "      <td>0.321283</td>\n",
              "    </tr>\n",
              "    <tr>\n",
              "      <th>std</th>\n",
              "      <td>0.120093</td>\n",
              "      <td>0.099240</td>\n",
              "      <td>0.041827</td>\n",
              "      <td>0.490389</td>\n",
              "      <td>0.221963</td>\n",
              "      <td>0.109614</td>\n",
              "      <td>0.139203</td>\n",
              "      <td>3.224169</td>\n",
              "      <td>0.481715</td>\n",
              "      <td>0.463731</td>\n",
              "      <td>0.467025</td>\n",
              "    </tr>\n",
              "    <tr>\n",
              "      <th>min</th>\n",
              "      <td>0.075000</td>\n",
              "      <td>0.055000</td>\n",
              "      <td>0.000000</td>\n",
              "      <td>0.002000</td>\n",
              "      <td>0.001000</td>\n",
              "      <td>0.000500</td>\n",
              "      <td>0.001500</td>\n",
              "      <td>1.000000</td>\n",
              "      <td>0.000000</td>\n",
              "      <td>0.000000</td>\n",
              "      <td>0.000000</td>\n",
              "    </tr>\n",
              "    <tr>\n",
              "      <th>25%</th>\n",
              "      <td>0.450000</td>\n",
              "      <td>0.350000</td>\n",
              "      <td>0.115000</td>\n",
              "      <td>0.441500</td>\n",
              "      <td>0.186000</td>\n",
              "      <td>0.093500</td>\n",
              "      <td>0.130000</td>\n",
              "      <td>8.000000</td>\n",
              "      <td>0.000000</td>\n",
              "      <td>0.000000</td>\n",
              "      <td>0.000000</td>\n",
              "    </tr>\n",
              "    <tr>\n",
              "      <th>50%</th>\n",
              "      <td>0.545000</td>\n",
              "      <td>0.425000</td>\n",
              "      <td>0.140000</td>\n",
              "      <td>0.799500</td>\n",
              "      <td>0.336000</td>\n",
              "      <td>0.171000</td>\n",
              "      <td>0.234000</td>\n",
              "      <td>9.000000</td>\n",
              "      <td>0.000000</td>\n",
              "      <td>0.000000</td>\n",
              "      <td>0.000000</td>\n",
              "    </tr>\n",
              "    <tr>\n",
              "      <th>75%</th>\n",
              "      <td>0.615000</td>\n",
              "      <td>0.480000</td>\n",
              "      <td>0.165000</td>\n",
              "      <td>1.153000</td>\n",
              "      <td>0.502000</td>\n",
              "      <td>0.253000</td>\n",
              "      <td>0.329000</td>\n",
              "      <td>11.000000</td>\n",
              "      <td>1.000000</td>\n",
              "      <td>1.000000</td>\n",
              "      <td>1.000000</td>\n",
              "    </tr>\n",
              "    <tr>\n",
              "      <th>max</th>\n",
              "      <td>0.815000</td>\n",
              "      <td>0.650000</td>\n",
              "      <td>1.130000</td>\n",
              "      <td>2.825500</td>\n",
              "      <td>1.488000</td>\n",
              "      <td>0.760000</td>\n",
              "      <td>1.005000</td>\n",
              "      <td>29.000000</td>\n",
              "      <td>1.000000</td>\n",
              "      <td>1.000000</td>\n",
              "      <td>1.000000</td>\n",
              "    </tr>\n",
              "  </tbody>\n",
              "</table>\n",
              "</div>"
            ],
            "text/plain": [
              "            Length     Diameter       Height  Whole Weight  Shucked Weight  \\\n",
              "count  4177.000000  4177.000000  4177.000000   4177.000000     4177.000000   \n",
              "mean      0.523992     0.407881     0.139516      0.828742        0.359367   \n",
              "std       0.120093     0.099240     0.041827      0.490389        0.221963   \n",
              "min       0.075000     0.055000     0.000000      0.002000        0.001000   \n",
              "25%       0.450000     0.350000     0.115000      0.441500        0.186000   \n",
              "50%       0.545000     0.425000     0.140000      0.799500        0.336000   \n",
              "75%       0.615000     0.480000     0.165000      1.153000        0.502000   \n",
              "max       0.815000     0.650000     1.130000      2.825500        1.488000   \n",
              "\n",
              "       Viscera Weight  Shell Weight        Rings         Male       Female  \\\n",
              "count     4177.000000   4177.000000  4177.000000  4177.000000  4177.000000   \n",
              "mean         0.180594      0.238831     9.933684     0.365813     0.312904   \n",
              "std          0.109614      0.139203     3.224169     0.481715     0.463731   \n",
              "min          0.000500      0.001500     1.000000     0.000000     0.000000   \n",
              "25%          0.093500      0.130000     8.000000     0.000000     0.000000   \n",
              "50%          0.171000      0.234000     9.000000     0.000000     0.000000   \n",
              "75%          0.253000      0.329000    11.000000     1.000000     1.000000   \n",
              "max          0.760000      1.005000    29.000000     1.000000     1.000000   \n",
              "\n",
              "            Infant  \n",
              "count  4177.000000  \n",
              "mean      0.321283  \n",
              "std       0.467025  \n",
              "min       0.000000  \n",
              "25%       0.000000  \n",
              "50%       0.000000  \n",
              "75%       1.000000  \n",
              "max       1.000000  "
            ]
          },
          "metadata": {
            "tags": []
          },
          "execution_count": 3
        }
      ]
    },
    {
      "metadata": {
        "id": "AQr_eGFOy48X",
        "colab_type": "text"
      },
      "cell_type": "markdown",
      "source": [
        "Agora temos dez entradas que são utilizadas para realizar a predição: *Length, Diameter, Height, Whole Weight, Shucked Weight, Viscera Weight, Shell Weight, Male, Female, Infant*. Ao observar os dados, é possível verificar que o valor mínimo da variável height é igual a zero. Tal valor claramente não faz sentido. Vamos examinar essas instâncias mais de perto: \n"
      ]
    },
    {
      "metadata": {
        "id": "oWPQ3uUreN1E",
        "colab_type": "code",
        "colab": {
          "base_uri": "https://localhost:8080/",
          "height": 112
        },
        "outputId": "9a2b7186-c806-4370-e429-97a35d15394f"
      },
      "cell_type": "code",
      "source": [
        "abalone[abalone['Height']==0]"
      ],
      "execution_count": 4,
      "outputs": [
        {
          "output_type": "execute_result",
          "data": {
            "text/html": [
              "<div>\n",
              "<style scoped>\n",
              "    .dataframe tbody tr th:only-of-type {\n",
              "        vertical-align: middle;\n",
              "    }\n",
              "\n",
              "    .dataframe tbody tr th {\n",
              "        vertical-align: top;\n",
              "    }\n",
              "\n",
              "    .dataframe thead th {\n",
              "        text-align: right;\n",
              "    }\n",
              "</style>\n",
              "<table border=\"1\" class=\"dataframe\">\n",
              "  <thead>\n",
              "    <tr style=\"text-align: right;\">\n",
              "      <th></th>\n",
              "      <th>Length</th>\n",
              "      <th>Diameter</th>\n",
              "      <th>Height</th>\n",
              "      <th>Whole Weight</th>\n",
              "      <th>Shucked Weight</th>\n",
              "      <th>Viscera Weight</th>\n",
              "      <th>Shell Weight</th>\n",
              "      <th>Rings</th>\n",
              "      <th>Male</th>\n",
              "      <th>Female</th>\n",
              "      <th>Infant</th>\n",
              "    </tr>\n",
              "  </thead>\n",
              "  <tbody>\n",
              "    <tr>\n",
              "      <th>1257</th>\n",
              "      <td>0.430</td>\n",
              "      <td>0.34</td>\n",
              "      <td>0.0</td>\n",
              "      <td>0.428</td>\n",
              "      <td>0.2065</td>\n",
              "      <td>0.0860</td>\n",
              "      <td>0.1150</td>\n",
              "      <td>8</td>\n",
              "      <td>0</td>\n",
              "      <td>0</td>\n",
              "      <td>1</td>\n",
              "    </tr>\n",
              "    <tr>\n",
              "      <th>3996</th>\n",
              "      <td>0.315</td>\n",
              "      <td>0.23</td>\n",
              "      <td>0.0</td>\n",
              "      <td>0.134</td>\n",
              "      <td>0.0575</td>\n",
              "      <td>0.0285</td>\n",
              "      <td>0.3505</td>\n",
              "      <td>6</td>\n",
              "      <td>0</td>\n",
              "      <td>0</td>\n",
              "      <td>1</td>\n",
              "    </tr>\n",
              "  </tbody>\n",
              "</table>\n",
              "</div>"
            ],
            "text/plain": [
              "      Length  Diameter  Height  Whole Weight  Shucked Weight  Viscera Weight  \\\n",
              "1257   0.430      0.34     0.0         0.428          0.2065          0.0860   \n",
              "3996   0.315      0.23     0.0         0.134          0.0575          0.0285   \n",
              "\n",
              "      Shell Weight  Rings  Male  Female  Infant  \n",
              "1257        0.1150      8     0       0       1  \n",
              "3996        0.3505      6     0       0       1  "
            ]
          },
          "metadata": {
            "tags": []
          },
          "execution_count": 4
        }
      ]
    },
    {
      "metadata": {
        "id": "6BNrbcea0JYY",
        "colab_type": "text"
      },
      "cell_type": "markdown",
      "source": [
        "Percebe-se que, provavelmente, o valor *Height* nessas observações está faltando ou que, talvez, o mesmo possa não ter sido medido por algum motivo. Sendo assim, dado que são poucas instâncias, é mais fácil simplesmente ignorá-las."
      ]
    },
    {
      "metadata": {
        "id": "dG5B2uSO0ckR",
        "colab_type": "code",
        "colab": {}
      },
      "cell_type": "code",
      "source": [
        "abalone = abalone[abalone['Height']>0]"
      ],
      "execution_count": 0,
      "outputs": []
    },
    {
      "metadata": {
        "id": "SWR2SC4Q-XXx",
        "colab_type": "text"
      },
      "cell_type": "markdown",
      "source": [
        "Além dos passos realizados até então, é interessante normalizar os dados de entrada para que estes fiquem na mesma faixa de valores. Para tal, você pode utilizar a função *scale* presente no pacote *preprocessing* da biblioteca scikit-learn. Lembre-se que as variáveis codificadas (“Masculino”, “Feminino” e “Infantil”) não devem ser normalizadas.\n"
      ]
    },
    {
      "metadata": {
        "id": "TDK_3yYBenW4",
        "colab_type": "code",
        "colab": {}
      },
      "cell_type": "code",
      "source": [
        "X = abalone.drop(['Rings'],axis=1)\n",
        "Y = abalone['Rings']\n",
        "\n",
        "#convertendo para float\n",
        "X = X.values.astype(np.float)\n",
        "\n",
        "# Normalizando os valores de entrada necessários\n",
        "## INSIRA SEU CÓDIGO AQUI\n",
        "temp_X = preprocessing.scale(X[:, 0:7])\n",
        "X = np.c_[temp_X, X[ : , 7:10]]"
      ],
      "execution_count": 0,
      "outputs": []
    },
    {
      "metadata": {
        "id": "2BGBKnj_tsSl",
        "colab_type": "text"
      },
      "cell_type": "markdown",
      "source": [
        "Uma vez que os dados já estão preparados, a próxima etapa é separá-los em dados de treinamento e de teste. "
      ]
    },
    {
      "metadata": {
        "id": "5KhCEVN5tvlY",
        "colab_type": "code",
        "colab": {}
      },
      "cell_type": "code",
      "source": [
        "# separando os dados em conjunto de treinamento e de teste \n",
        "xtrain,xtest, ytrain, ytest = train_test_split(X,Y,train_size=0.7)"
      ],
      "execution_count": 0,
      "outputs": []
    },
    {
      "metadata": {
        "id": "hU87SdTe_7Vp",
        "colab_type": "text"
      },
      "cell_type": "markdown",
      "source": [
        "###Aplicação da Regressão\n",
        "\n",
        "A partir dos dados de treinamento, utilize a biblioteca scikit-learn para construir o modelo de regressão logística multinomial. Dica: pesquise a função *LogisticRegression* com a utilização do parâmetro *multi_class* atribuído com o valor *multinomial*. Além disso, lembre-se que  para o conjunto de dados abalone é normal a obtenção de uma acurária relativamente baixa.\n",
        "\n"
      ]
    },
    {
      "metadata": {
        "id": "kUqXWq33WGXp",
        "colab_type": "code",
        "colab": {
          "base_uri": "https://localhost:8080/",
          "height": 35
        },
        "outputId": "419daaad-2dea-4cf5-ff52-4181a5459808"
      },
      "cell_type": "code",
      "source": [
        "# Construção do modelo de regressão multinomial:\n",
        "model = linear_model.LogisticRegression(solver = 'lbfgs' , multi_class='multinomial')\n",
        "\n",
        "# Utilizando o modelo para predizer as observações de teste\n",
        "ypred = model.fit(xtrain, ytrain).predict(xtest)\n",
        "\n",
        "# Visualização do valor de acurácia para o conjunto de teste:\n",
        "print \"Regressão Multinomial --> Acurácia no teste: \", metrics.accuracy_score(ytest, ypred)"
      ],
      "execution_count": 45,
      "outputs": [
        {
          "output_type": "stream",
          "text": [
            "Regressão Multinomial --> Acurácia no teste:  0.2583732057416268\n"
          ],
          "name": "stdout"
        }
      ]
    },
    {
      "metadata": {
        "id": "IITddFXeiYzl",
        "colab_type": "text"
      },
      "cell_type": "markdown",
      "source": [
        "## Base de Dados: Glass\n",
        "\n",
        "\n",
        "Além da base de dados Abalone, também utilizaremos o conjunto de dados Glass disponível no UCI Machine Learning Repository. Sendo assim, inicialmente os dados são carregados:"
      ]
    },
    {
      "metadata": {
        "id": "mAHhCTlFwpgz",
        "colab_type": "code",
        "colab": {
          "base_uri": "https://localhost:8080/",
          "height": 71
        },
        "outputId": "41f9513b-d039-48c7-a5ee-244d4ac745df"
      },
      "cell_type": "code",
      "source": [
        "#Inicialmente o conjunto de dados Glass é carregado\n",
        "\n",
        "glass_data_headers = [\"Id\", \"RI\", \"Na\", \"Mg\", \"Al\", \"Si\", \"K\", \"Ca\", \"Ba\", \"Fe\", \"glass-type\"]\n",
        "glass_data = pd.read_csv(\"https://archive.ics.uci.edu/ml/machine-learning-databases/glass/glass.data\", names=glass_data_headers)\n",
        "\n",
        "print \"Número de Observações: \", len(glass_data.index)\n",
        "print \"Número de Colunas: \", len(glass_data.columns)\n",
        "print \"Cabeçalho: \", glass_data.columns.values"
      ],
      "execution_count": 46,
      "outputs": [
        {
          "output_type": "stream",
          "text": [
            "Número de Observações:  214\n",
            "Número de Colunas:  11\n",
            "Cabeçalho:  ['Id' 'RI' 'Na' 'Mg' 'Al' 'Si' 'K' 'Ca' 'Ba' 'Fe' 'glass-type']\n"
          ],
          "name": "stdout"
        }
      ]
    },
    {
      "metadata": {
        "id": "1fRoe3tZzWLT",
        "colab_type": "text"
      },
      "cell_type": "markdown",
      "source": [
        "Logo após, os dados devem ser normalizados e separados em conjunto de treinamento e de teste:"
      ]
    },
    {
      "metadata": {
        "id": "h4wvLBbizfvA",
        "colab_type": "code",
        "colab": {}
      },
      "cell_type": "code",
      "source": [
        "X = glass_data[glass_data_headers[:-1]]\n",
        "Y = glass_data[glass_data_headers[-1]]\n",
        "\n",
        "#convertendo para float\n",
        "X = X.values.astype(np.float)\n",
        "\n",
        "# Normalizando os valores de entrada necessários\n",
        "## INSIRA SEU CÓDIGO AQUI\n",
        "X = preprocessing.scale(X)\n",
        "\n",
        "#separação dos dados em conjunto de treinamento e de teste\n",
        "xtrain, xtest, ytrain, ytest = train_test_split(X, Y, train_size=0.7)"
      ],
      "execution_count": 0,
      "outputs": []
    },
    {
      "metadata": {
        "id": "lOpQVuJQoIL0",
        "colab_type": "text"
      },
      "cell_type": "markdown",
      "source": [
        "A partir dos dados de treinamento, utilize novamente a biblioteca scikit-learn para construir o modelo de regressão logística multinomial. Dica: repita os passos utilizados anteriormente para a construção do modelo."
      ]
    },
    {
      "metadata": {
        "id": "utxv6Ejtw_Z7",
        "colab_type": "code",
        "colab": {
          "base_uri": "https://localhost:8080/",
          "height": 35
        },
        "outputId": "d027e48f-b40c-4b6e-e268-e445f959d624"
      },
      "cell_type": "code",
      "source": [
        "# Construção do modelo de regressão multinomial:\n",
        "model = linear_model.LogisticRegression(solver = 'newton-cg' , multi_class='multinomial')\n",
        "\n",
        "# Utilizando o modelo para predizer as observações de teste\n",
        "ypred = model.fit(xtrain, ytrain).predict(xtest)\n",
        "\n",
        "# Visualização do valor de acurácia para o conjunto de teste:\n",
        "print \"Regressão Multinomial --> Acurácia no teste: \", metrics.accuracy_score(ytest, ypred)"
      ],
      "execution_count": 55,
      "outputs": [
        {
          "output_type": "stream",
          "text": [
            "Regressão Multinomial --> Acurácia no teste:  0.8372093023255814\n"
          ],
          "name": "stdout"
        }
      ]
    }
  ]
}