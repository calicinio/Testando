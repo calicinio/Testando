{
  "nbformat": 4,
  "nbformat_minor": 0,
  "metadata": {
    "colab": {
      "name": "Copy of Gradient_Tree_Boosting",
      "version": "0.3.2",
      "provenance": [],
      "collapsed_sections": []
    },
    "kernelspec": {
      "name": "python3",
      "display_name": "Python 3"
    }
  },
  "cells": [
    {
      "cell_type": "markdown",
      "metadata": {
        "id": "view-in-github",
        "colab_type": "text"
      },
      "source": [
        "[View in Colaboratory](https://colab.research.google.com/github/calicinio/Testando/blob/master/Copy_of_Gradient_Tree_Boosting.ipynb)"
      ]
    },
    {
      "metadata": {
        "id": "jAtY8ALSSkWq",
        "colab_type": "text"
      },
      "cell_type": "markdown",
      "source": [
        "Equipe: Breno, Juliana, Patrícia, Turíbio\n",
        "\n",
        "email: gradient-tree-boost@googlegroups.com"
      ]
    },
    {
      "metadata": {
        "id": "DCccX_RDIqxL",
        "colab_type": "text"
      },
      "cell_type": "markdown",
      "source": [
        "# Gradient Tree Boosting\n",
        "\n",
        "O gradient tree boosting (aprimoramento da árvore de gradiente) é uma técnica de aprendizagem estatística não paramétrica flexível para classificação e regressão. A técnica consiste em classificação e regressão através da adoção conjuntos de árvores de decisão trabalhando sequencialmente para efetuar a predição.\n",
        "\n",
        "Para demostrar como a técnica funciona, tomemos um problema de regressão bidimensional em que  $y = f (\\mathbf {x}) = f (x_1, x_2) $ e investiguemos como uma árvore é capaz de reconstruir a função $f(\\mathbf{x})$. \n",
        "\n",
        "![alt text](http://www.patricialucas.com.br/wp-content/uploads/2018/05/um.jpg)\n",
        "![alt text](http://www.patricialucas.com.br/wp-content/uploads/2018/05/tres.jpg)\n",
        "![alt text](http://www.patricialucas.com.br/wp-content/uploads/2018/05/seis.jpg)\n",
        "\n",
        "Figura 1: função alvo semitransparente $f(\\mathbf{x})$ e árvore de predição $d_\\text{tree} (\\mathbf {x})$ com profundidade 1, 3 e 6 respectivamente.\n",
        "\n",
        "Uma árvore de decisão é um classificador bastante simples que divide o espaço de recursos em regiões aplicando uma divisão trivial. As regiões resultantes têm uma forma retangular e em cada região as previsões são constantes.\n",
        "\n",
        "O gradient tree boosting é uma técnica de agrupamento, o que significa que a predição é feita por um conjunto de estimadores mais simples. O objetivo é criar (ou \"treinar\") um conjunto de árvores, dado que sabemos como treinar uma única árvore de decisão. Essa técnica é chamada de reforço porque esperamos que um conjunto trabalhe muito melhor do que um único estimador.\n",
        "\n",
        "\n",
        "# Como o conjunto é construído?\n",
        "\n",
        "O aumento de gradiente constrói um conjunto de árvores uma a uma e, em seguida, as previsões das árvores individuais são somadas:\n",
        "\n",
        "$$D ( x ) = d_{tree 1} ( x ) + d_{tree 2} ( x ) + ...$$\n",
        "\n",
        "A próxima árvore de decisão tenta cobrir a discrepância entre a função de destino $f (\\mathbf{x})$ e a predição atual do conjunto, reconstruindo o residual.\n",
        "\n",
        "Por exemplo, se um conjunto tem 3 árvores, a previsão desse conjunto é:\n",
        "\n",
        "$$D (x) = d_{tree 1}(x) + d_{tree 2}(x) + d_{tree 3}(x)$$\n",
        "\n",
        "A árvore seguinte no conjunto (tree 4) deve complementar bem as árvores existentes e minimizar o erro de formação do conjunto.\n",
        "\n",
        "No caso ideal, teríamos:\n",
        "\n",
        "$$D (\\mathbf{x}) + d_\\text{tree 4} (\\mathbf{x}) = f(\\mathbf {x}). $$\n",
        "\n",
        "Para chegar um pouco mais perto do destino, nós treinamos uma árvore para reconstruir a diferença entre a função alvo e as previsões atuais do conjunto, que é chamado residual:\n",
        "\n",
        "$$R (\\mathbf{x}) = f (\\mathbf {x}) - D (\\mathbf {x}). $$\n",
        "\n",
        "Agora vamos mostrar a mesma função $f(\\mathbf{x})$ da Figura 1 sendo reconstruída pelo gradient tree boosting com a combinação de 100 árvores de decisão.\n",
        "\n",
        "![alt text](http://www.patricialucas.com.br/wp-content/uploads/2018/05/gtb1.jpg)\n",
        "![alt text](http://www.patricialucas.com.br/wp-content/uploads/2018/05/gtb3.jpg)\n",
        "![alt text](http://www.patricialucas.com.br/wp-content/uploads/2018/05/gtb6.jpg)\n",
        "\n",
        "Figura 2: função alvo semitransparente $f (\\mathbf {x})$ e previsão de gradient tree boosting $D(\\mathbf {x})$ com profundidade 1, 3 e 6 respectivamente.\n",
        "\n",
        "Como vemos, o  gradient tree boosting é capaz de fornecer previsões detalhadas combinando árvores de profundidade muito limitada.\n"
      ]
    },
    {
      "metadata": {
        "id": "T-GtONHVH69l",
        "colab_type": "code",
        "colab": {}
      },
      "cell_type": "code",
      "source": [
        "#Algumas libs conhecidas\n",
        "import numpy as np\n",
        "import matplotlib.pyplot as plt\n",
        "import pandas as pd\n",
        "\n",
        "from sklearn.model_selection import train_test_split\n",
        "from sklearn.datasets.california_housing import fetch_california_housing\n",
        "\n",
        "#Libs para esse trabalho\n",
        "from sklearn.ensemble import GradientBoostingRegressor\n",
        "\n",
        "#mse\n",
        "from sklearn.metrics import mean_squared_error"
      ],
      "execution_count": 0,
      "outputs": []
    },
    {
      "metadata": {
        "id": "qLtGWRcsI0nj",
        "colab_type": "code",
        "colab": {}
      },
      "cell_type": "code",
      "source": [
        "#Funções auxiliares\n",
        "def plot_samples(y_test, y_hat):\n",
        "  results = pd.DataFrame({'y esperado':y_test, 'y encontrado':y_hat})\n",
        "  print (results.head(15))\n",
        "\n",
        "  results.hist()\n",
        "\n",
        "def plot_xy(x, y, xLabel, yLabel):\n",
        "  plt.plot(x,y, linestyle='solid')\n",
        "\n",
        "  miny = min(y)\n",
        "  xwin = x[np.argmin(y)] \n",
        "  \n",
        "  plt.text(0+xwin,miny, 'Min'+yLabel)\n",
        "\n",
        "  plt.xlabel(xLabel)\n",
        "  plt.ylabel(yLabel)\n",
        "\n",
        "\n",
        "  plt.show()"
      ],
      "execution_count": 0,
      "outputs": []
    },
    {
      "metadata": {
        "id": "mZti4XSXJARh",
        "colab_type": "text"
      },
      "cell_type": "markdown",
      "source": [
        "## Dataset: California housing\n",
        "\n",
        "Importa o dataset, separa em X e y e mostra quem são os labels do dataset."
      ]
    },
    {
      "metadata": {
        "id": "p-K91hi9JEsk",
        "colab_type": "code",
        "colab": {
          "base_uri": "https://localhost:8080/",
          "height": 53
        },
        "outputId": "eee6ac11-c0ce-49fe-c310-7ee0c09f6907"
      },
      "cell_type": "code",
      "source": [
        "cal_housing = fetch_california_housing()\n",
        "X = cal_housing['data']#X\n",
        "y = cal_housing['target']# y\n",
        "Xy_labels = cal_housing['feature_names']\n",
        "print(Xy_labels)"
      ],
      "execution_count": 4,
      "outputs": [
        {
          "output_type": "stream",
          "text": [
            "Downloading Cal. housing from https://ndownloader.figshare.com/files/5976036 to /content/scikit_learn_data\n"
          ],
          "name": "stderr"
        },
        {
          "output_type": "stream",
          "text": [
            "['MedInc', 'HouseAge', 'AveRooms', 'AveBedrms', 'Population', 'AveOccup', 'Latitude', 'Longitude']\n"
          ],
          "name": "stdout"
        }
      ]
    },
    {
      "metadata": {
        "id": "hpTr3DM4JIoD",
        "colab_type": "text"
      },
      "cell_type": "markdown",
      "source": [
        "## Exemplo 1 com GTB\n",
        "\n",
        "Parâmetros que usaremos do 'GradientBoostingRegressor' do scikit learning:\n",
        "\n",
        "- loss: {‘ls’, ‘lad’, ‘huber’, ‘quantile’} -> função usada na otimização\n",
        "- random_state -> seed usada para geração de números aleatórios\n",
        "- max_depht -> máxima profundidade dos estimadores de regressão individual\n",
        "- learning_rate -> a taxa de aprendizado e contribuição de cada árvore por learning_rate.\n",
        "- n_estimators -> o número de estágios boosting a serem executados. Quanto maior, mais chance de over-fitting.\n"
      ]
    },
    {
      "metadata": {
        "id": "v7XF6nv9JK5q",
        "colab_type": "code",
        "colab": {}
      },
      "cell_type": "code",
      "source": [
        "learningRate = 0.04\n",
        "nEstimators = 1000\n",
        "maxDepth = 6\n",
        "split_size = 0.4\n",
        "\n",
        "\n",
        "modelo = GradientBoostingRegressor(loss='huber', random_state=0, max_depth=maxDepth,\n",
        "                                   learning_rate=learningRate, n_estimators=nEstimators)\n",
        "\n",
        "#embaralha as amostras\n",
        "n = len(X)\n",
        "idx = np.arange(n)\n",
        "\n",
        "amostra_x = X[idx]\n",
        "amostra_y = y[idx]\n",
        "\n",
        "#separa em treino e teste\n",
        "X_train, X_test, y_train, y_test = train_test_split(amostra_x, amostra_y, test_size=split_size, random_state=0)\n",
        "\n",
        "#Encontra y_hat\n",
        "y_hat = modelo.fit(X_train, y_train).predict(X_test)\n",
        "\n",
        "#Calcula MSE, RMSE\n",
        "mse = mean_squared_error(y_test, y_hat)\n",
        "rmse = np.sqrt(mean_squared_error(y_test, y_hat))\n",
        "\n"
      ],
      "execution_count": 0,
      "outputs": []
    },
    {
      "metadata": {
        "id": "37k29lk0JUMQ",
        "colab_type": "code",
        "colab": {
          "base_uri": "https://localhost:8080/",
          "height": 667
        },
        "outputId": "fb101ad4-b5dd-4e34-b58a-8389762ba233"
      },
      "cell_type": "code",
      "source": [
        "#Print comparativamente os resultados\n",
        "print('MSE: ', mse, 'RMSE: ', rmse)\n",
        "\n",
        "\n",
        "plot_samples(y_test, y_hat)"
      ],
      "execution_count": 6,
      "outputs": [
        {
          "output_type": "stream",
          "text": [
            "MSE:  0.21806858292539966 RMSE:  0.46697813966544477\n",
            "    y encontrado  y esperado\n",
            "0       1.433043       1.369\n",
            "1       2.588940       2.413\n",
            "2       1.472181       2.007\n",
            "3       0.722630       0.725\n",
            "4       4.701787       4.600\n",
            "5       1.840243       1.200\n",
            "6       2.587636       2.470\n",
            "7       3.875639       3.369\n",
            "8       2.909879       3.397\n",
            "9       2.158683       2.656\n",
            "10      2.740800       2.379\n",
            "11      1.036155       0.922\n",
            "12      0.846749       0.795\n",
            "13      1.777388       1.375\n",
            "14      2.233952       2.201\n"
          ],
          "name": "stdout"
        },
        {
          "output_type": "display_data",
          "data": {
            "image/png": "[encoded data removed]",
            "text/plain": [
              "<matplotlib.figure.Figure at 0x7f73c5514e48>"
            ]
          },
          "metadata": {
            "tags": []
          }
        }
      ]
    },
    {
      "metadata": {
        "id": "KOYrGLHDJx2r",
        "colab_type": "text"
      },
      "cell_type": "markdown",
      "source": [
        "## Exemplo 2 GTB\n",
        "\n",
        "Agora que fizemos um exemplo com valores definidos, vamos alterar os valores do learning_rate a fim de encontrar o melhor valor para o dataset atual.\n",
        "\n",
        "**Vale lembrar: ** O learning rate define a taxa de aprendizado de cada tree. Dessa forma, para um loop desses, é esperado que haja alguma demora."
      ]
    },
    {
      "metadata": {
        "id": "CL9Yc4cnJ0QT",
        "colab_type": "code",
        "colab": {}
      },
      "cell_type": "code",
      "source": [
        "#learningRate = 0.04\n",
        "learningRate = np.arange(0.2,1,0.2)\n",
        "nEstimators = 1000\n",
        "rmseLR = []\n",
        "\n",
        "n = len(X)\n",
        "#embaralha as amostras\n",
        "idx = np.arange(n)\n",
        "\n",
        "amostra_x = X[idx]\n",
        "amostra_y = y[idx]\n",
        "\n",
        "#separa em treino e teste\n",
        "X_train, X_test, y_train, y_test = train_test_split(amostra_x, amostra_y, test_size=split_size, random_state=0)\n",
        "\n",
        "for LR in set(learningRate):\n",
        "    \n",
        "  modelo = GradientBoostingRegressor(loss='huber', random_state=0, max_depth=maxDepth,\n",
        "                                   learning_rate=LR, n_estimators=nEstimators)\n",
        "  \n",
        "  #Encontra y_hat\n",
        "  y_hat = modelo.fit(X_train, y_train).predict(X_test)\n",
        "\n",
        "  #Calcula MSE, RMSE\n",
        "  rmse = np.sqrt(mean_squared_error(y_test, y_hat))\n",
        "  \n",
        "  rmseLR.append(rmse)"
      ],
      "execution_count": 0,
      "outputs": []
    },
    {
      "metadata": {
        "id": "FHsTI_4DLfxc",
        "colab_type": "code",
        "colab": {
          "base_uri": "https://localhost:8080/",
          "height": 379
        },
        "outputId": "2e8d0675-d30f-41b2-e475-7b963bbb6992"
      },
      "cell_type": "code",
      "source": [
        "min_MSE = min(rmseLR)\n",
        "LR_win = learningRate[np.argmin(rmseLR)]\n",
        "\n",
        "#Print MSE mínimo e Learning Rate equivalente\n",
        "print('MSE: ', min_MSE, 'Best Learning Rate: ', LR_win)\n",
        "\n",
        "plot_xy(learningRate, rmseLR, 'Learning Rate', 'MSES')"
      ],
      "execution_count": 28,
      "outputs": [
        {
          "output_type": "stream",
          "text": [
            "MSE:  0.47785250075951186 Best Learning Rate:  0.2\n"
          ],
          "name": "stdout"
        },
        {
          "output_type": "display_data",
          "data": {
            "image/png": "[encoded data removed]",
            "text/plain": [
              "<matplotlib.figure.Figure at 0x7f73ac0ae320>"
            ]
          },
          "metadata": {
            "tags": []
          }
        }
      ]
    },
    {
      "metadata": {
        "id": "qEkcDBXLLh5_",
        "colab_type": "text"
      },
      "cell_type": "markdown",
      "source": [
        "## Exemplo 3 GTB\n",
        "\n",
        "Vamos descobrir o melhor n_estimators.\n",
        "\n",
        "**Vale lembrar: ** O n_estimators define o número de estágios boots a serem usados no GTB. Dessa forma, para um loop desses, é esperado que haja alguma demora."
      ]
    },
    {
      "metadata": {
        "id": "feAji4S4LlT_",
        "colab_type": "code",
        "colab": {}
      },
      "cell_type": "code",
      "source": [
        "learningRate = LR_win\n",
        "nEstimators = np.arange(500,3000,500)\n",
        "#nEstimators = 1000\n",
        "rmseNE = []\n",
        "\n",
        "n = len(X)\n",
        "#embaralha as amostras\n",
        "idx = np.arange(n)\n",
        "\n",
        "amostra_x = X[idx]\n",
        "amostra_y = y[idx]\n",
        "\n",
        "#separa em treino e teste\n",
        "X_train, X_test, y_train, y_test = train_test_split(amostra_x, amostra_y, test_size=split_size, random_state=0)\n",
        "\n",
        "for NE in set(nEstimators):\n",
        "    \n",
        "  modelo = GradientBoostingRegressor(loss='huber', random_state=0, max_depth=maxDepth,\n",
        "                                   learning_rate=learningRate, n_estimators=NE)\n",
        "  \n",
        "  #Encontra y_hat\n",
        "  y_hat = modelo.fit(X_train, y_train).predict(X_test)\n",
        "\n",
        "  #Calcula MSE, RMSE\n",
        "  rmse = np.sqrt(mean_squared_error(y_test, y_hat))\n",
        "  \n",
        "  rmseNE.append(rmse)"
      ],
      "execution_count": 0,
      "outputs": []
    },
    {
      "metadata": {
        "id": "BNS-twfXL4pU",
        "colab_type": "code",
        "colab": {
          "base_uri": "https://localhost:8080/",
          "height": 379
        },
        "outputId": "2ac19db8-0e81-448e-e747-1075eacabb18"
      },
      "cell_type": "code",
      "source": [
        "min_MSE = min(rmseNE)\n",
        "NE_win = nEstimators[np.argmin(rmseNE)]\n",
        "\n",
        "#Print MSE mínimo e Learning Rate equivalente\n",
        "print('MSE: ', min_MSE, 'Best n Estimator: ', NE_win)\n",
        "\n",
        "plot_xy(nEstimators, rmseNE, 'n Estimators', 'RMSES')"
      ],
      "execution_count": 31,
      "outputs": [
        {
          "output_type": "stream",
          "text": [
            "MSE:  0.4764379672541269 Best n Estimator:  2000\n"
          ],
          "name": "stdout"
        },
        {
          "output_type": "display_data",
          "data": {
            "image/png": "[encoded data removed]",
            "text/plain": [
              "<matplotlib.figure.Figure at 0x7f73ac0208d0>"
            ]
          },
          "metadata": {
            "tags": []
          }
        }
      ]
    },
    {
      "metadata": {
        "id": "EWTttqJEL71F",
        "colab_type": "text"
      },
      "cell_type": "markdown",
      "source": [
        "## Exemplo 4 GTB\n",
        "\n",
        "Não se preocupe, esse é o último! Dentre os parâmetros principais de GTB, falta só alterarmos os valores de max_depth.\n",
        "\n",
        "\n",
        "**Vale lembrar: ** O max_depth define a profundidade máxima que a árvore de decisão pode obter. Dessa forma, para um loop desses, é esperado que haja alguma demora."
      ]
    },
    {
      "metadata": {
        "id": "89XgdCuGL8pD",
        "colab_type": "code",
        "colab": {}
      },
      "cell_type": "code",
      "source": [
        "learningRate = LR_win\n",
        "nEstimators = NE_win\n",
        "maxDepth = np.arange(2,10,2)\n",
        "rmseMD = []\n",
        "\n",
        "n = len(X)\n",
        "#embaralha as amostras\n",
        "idx = np.arange(n)\n",
        "\n",
        "amostra_x = X[idx]\n",
        "amostra_y = y[idx]\n",
        "\n",
        "#separa em treino e teste\n",
        "X_train, X_test, y_train, y_test = train_test_split(amostra_x, amostra_y, test_size=split_size, random_state=0)\n",
        "\n",
        "for MD in set(maxDepth):\n",
        "    \n",
        "  modelo = GradientBoostingRegressor(loss='huber', random_state=0, max_depth=MD,\n",
        "                                   learning_rate=learningRate, n_estimators=nEstimators)\n",
        "  \n",
        "  #Encontra y_hat\n",
        "  y_hat = modelo.fit(X_train, y_train).predict(X_test)\n",
        "\n",
        "  #Calcula MSE, RMSE\n",
        "  rmse = np.sqrt(mean_squared_error(y_test, y_hat))\n",
        "  \n",
        "  rmseMD.append(rmse)"
      ],
      "execution_count": 0,
      "outputs": []
    },
    {
      "metadata": {
        "id": "r_yj-PpXMUZ9",
        "colab_type": "code",
        "colab": {
          "base_uri": "https://localhost:8080/",
          "height": 379
        },
        "outputId": "bde3ed02-a520-4e7b-9592-fc92a1398ef0"
      },
      "cell_type": "code",
      "source": [
        "min_MSE = min(rmseMD)\n",
        "MD_win = maxDepth[np.argmin(rmseMD)]\n",
        "\n",
        "#Print MSE mínimo e Learning Rate equivalente\n",
        "print('MSE: ', min_MSE, 'Best max_depth: ', MD_win)\n",
        "\n",
        "plot_xy(maxDepth, rmseMD, 'Max Depth', 'RMSES')"
      ],
      "execution_count": 34,
      "outputs": [
        {
          "output_type": "stream",
          "text": [
            "MSE:  0.47407818279779285 Best max_depth:  6\n"
          ],
          "name": "stdout"
        },
        {
          "output_type": "display_data",
          "data": {
            "image/png": "[encoded data removed]",
            "text/plain": [
              "<matplotlib.figure.Figure at 0x7f73ac43c1d0>"
            ]
          },
          "metadata": {
            "tags": []
          }
        }
      ]
    },
    {
      "metadata": {
        "id": "oiDOMVWdMUtq",
        "colab_type": "text"
      },
      "cell_type": "markdown",
      "source": [
        "# Conclusões\n",
        "\n",
        "*Gradient Tree Boosting* envolve a criação e adição de árvores de decisões sequenciais, cada uma tentando corrigir os erros de aprendizarem da anterior. Dessa forma, os principais parâmetros que influenciam diretamente esse algoritmo são:\n",
        "\n",
        "- Estimadores de boost (n_estimators)\n",
        "- A taxa de aprendizado (learning_rate)\n",
        "- Profundidade máxima da árvore (max_depth)\n",
        "\n",
        "Como o estimador de boost e a taxa de aprendizado são diretamente relacionadas, é possível uma otimização para encontrar os melhores valores de ambos. Para tanto, foram criados diversas otimizações do GTB, como o **xtreme gradient boost** (XGBoost).\n",
        "\n",
        "\n",
        "\n",
        "\n",
        "\n"
      ]
    },
    {
      "metadata": {
        "id": "xhFgLHQ9Oeq0",
        "colab_type": "text"
      },
      "cell_type": "markdown",
      "source": [
        "# Referências\n",
        "\n",
        "### Lib de Python\n",
        "http://scikit-learn.org/stable/modules/generated/sklearn.ensemble.GradientBoostingRegressor.html\n",
        "\n",
        "#### Artigos\n",
        "\n",
        "(2001) [Greedy Function Approximation: A Gradient Boosting Machine](http://www.jstor.org/stable/pdf/2699986.pdf)\n",
        "\n",
        "(2004) [Training Conditional Random Fields via Gradient Tree Boosting](http://citeseerx.ist.psu.edu/viewdoc/download?doi=10.1.1.58.6703&rep=rep1&type=pdf)\n",
        "\n",
        "(1999) [Stochastic gradient boosting] https://astro.temple.edu/~msobel/courses_files/StochasticBoosting(gradient).pdf\n",
        "\n",
        "\n",
        "#### Links com conteúdo teórico\n",
        "\n",
        "https://www.analyticsvidhya.com/blog/2015/11/quick-introduction-boosting-algorithms-machine-learning/\n",
        "\n",
        "https://medium.com/mlreview/gradient-boosting-from-scratch-1e317ae4587d\n",
        "\n",
        "https://machinelearningmastery.com/gentle-introduction-gradient-boosting-algorithm-machine-learning/\n",
        "\n",
        "\n",
        "#### Videos explicativos\n",
        "https://www.youtube.com/watch?v=7VeUPuFGJHk\n",
        "\n",
        "https://www.youtube.com/watch?v=J4Wdy0Wc_xQ\n",
        "\n",
        "https://www.youtube.com/watch?v=2Mg8QD0F1dQ\n",
        "\n",
        "https://www.youtube.com/watch?v=GM3CDQfQ4sw\n",
        "\n"
      ]
    }
  ]
}