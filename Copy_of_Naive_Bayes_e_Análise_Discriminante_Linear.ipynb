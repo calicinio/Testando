{
  "nbformat": 4,
  "nbformat_minor": 0,
  "metadata": {
    "colab": {
      "name": "Copy of Naive_Bayes_e_Análise_Discriminante_Linear.ipynb",
      "version": "0.3.2",
      "provenance": [],
      "collapsed_sections": []
    },
    "kernelspec": {
      "name": "python2",
      "display_name": "Python 2"
    }
  },
  "cells": [
    {
      "cell_type": "markdown",
      "metadata": {
        "id": "view-in-github",
        "colab_type": "text"
      },
      "source": [
        "[View in Colaboratory](https://colab.research.google.com/github/calicinio/Testando/blob/master/Copy_of_Naive_Bayes_e_An%C3%A1lise_Discriminante_Linear.ipynb)"
      ]
    },
    {
      "metadata": {
        "id": "io7c6DNEcs0R",
        "colab_type": "text"
      },
      "cell_type": "markdown",
      "source": [
        "\n",
        "# Naive Bayes - Teoria\n",
        "\n",
        "## Histórico\n",
        "\n",
        "O algoritmo “Naive Bayes” é um classificador probabilístico baseado no “Teorema de Bayes”, o qual foi criado por Thomas Bayes (1701 - 1761) para tentar provar a existência de Deus. Atualmente, o algoritmo se tornou popular na área de Aprendizado de Máquina (Machine Learning) para categorizar textos baseado na frequência das palavras usadas, e assim pode ser usado para identificar se determinado e-mail é um SPAM ou sobre qual assunto se refere determinado texto, por exemplo.\n",
        "\n",
        "______________________________________________________________________________________\n",
        "\n",
        "Por ser muito simples e rápido, possui um desempenho relativamente maior do que outros classificadores. Além disso, o Naive Bayes só precisa de um pequeno número de dados de teste para concluir classificações com uma boa precisão. A principal característica do algoritmo, e também o motivo de receber “naive” (ingênuo) no nome, é que ele desconsidera completamente a correlação entre as variáveis (features).\n",
        "\n"
      ]
    },
    {
      "metadata": {
        "id": "if5hxrHadTms",
        "colab_type": "text"
      },
      "cell_type": "markdown",
      "source": [
        "Um problema clássico utilizando o algoritmo de Naive bayes é o de classificação de spam, por isso vamos implementá-lo utilizando a biblioteca *scikit-learn*. \n",
        "\n",
        "Teorema de Bayes fornece uma forma de calcular a probabilidade posterior P (C | X) a partir de P (C), P (x) e P (X | c). Veja a equação abaixo:\n",
        "\n",
        "\n",
        "![alt text](https://www.vooo.pro/insights/wp-content/uploads/2016/04/probabilidade-Bayes.png)\n",
        "\n",
        "Tendo como um dos exemplos clássicos que utiliza a variável clima e da correspondente variável-alvo ‘Play’ (sugerindo possibilidades de de um jogo acontecer) Para isso , se faze necessário classificar se os jogadores vão jogar ou não com base na condição meteorológica.\n",
        "\n",
        "Um exemplo de como seria o cálculo de probabilidade de uma evento posterior será dado abaixo:\n",
        "\n",
        "![alt text](https://www.vooo.pro/insights/wp-content/uploads/2016/04/tabela-bayes-768x238.png)\n",
        "\n"
      ]
    },
    {
      "metadata": {
        "id": "CEo2ZeFH1bxm",
        "colab_type": "text"
      },
      "cell_type": "markdown",
      "source": [
        "Passo 1: Converter o conjunto de dados em uma tabela de frequência\n",
        "\n",
        "Passo 2: Criar tabela de Probabilidade ao encontrar as probabilidades.\n",
        "  - Ex: tempo Nublado = 0,29 e probabilidade de jogar = 0,64.\n",
        "\n",
        "Passo 3: Utilizar a equação Bayesiana Naive para calcular a probabilidade posterior para cada classe. A classe com maior probabilidade posterior é o resultado da previsão.  \n",
        "\n",
        "---\n",
        " Dado a condição: Podemos resolver isso usando o método discutido acima de probabilidade posterior.\n",
        "\n",
        "P (Sim | ensolarado) = P (ensolarado | Sim) * P (Sim) / P (ensolarado)\n",
        "\n",
        "Aqui temos P (ensolarado | Sim) = 3/9 = 0,33, P (ensolarado) = 5/14 = 0,36, P (Sim) = 9/14 = 0,64\n",
        "\n",
        "Agora, P (Sim | ensolarado) = 0,33 * 0,64 / 0,36 = 0,60, que tem maior probabilidade.\n",
        "\n",
        "\n",
        "---\n",
        "\n",
        "\n",
        "\n",
        "\n",
        "Naive Bayes usa um método similar para prever a probabilidade de classe diferente com base em vários atributos. "
      ]
    },
    {
      "metadata": {
        "id": "dnjSmmrLEQUI",
        "colab_type": "code",
        "colab": {}
      },
      "cell_type": "code",
      "source": [
        "import pandas as pd\n",
        "import string \n",
        "import numpy as np\n",
        "from collections import Counter\n",
        "from sklearn.feature_extraction.text import CountVectorizer\n",
        "from sklearn.model_selection import train_test_split\n",
        "from sklearn.naive_bayes import MultinomialNB\n",
        "from sklearn.metrics import accuracy_score, precision_score,f1_score\n",
        "import csv"
      ],
      "execution_count": 0,
      "outputs": []
    },
    {
      "metadata": {
        "id": "Kbmlk3iyTQXV",
        "colab_type": "text"
      },
      "cell_type": "markdown",
      "source": [
        "##Carregamento dos dados\n",
        "A base de dados utilizada nesse exemplo foi  disponibilizada no Git Hub para a comunidade de aprendizado de máquina.\n",
        "\n",
        "Informações da base de dados:\n",
        "\n",
        "**Coluna 1**: Classificação da mensagem, SPAM ou HAM.\n",
        "\n",
        "Obs: SPAM nada mais é do que uma mensagem indesejada. No entanto, muitas vezes as pessoas não percebem que estão se inscrevendo para malas diretas quando baixam softwares gratuitos ou se inscrevem em um novo serviço, ou mesmo quando atualizam softwares existentes. Esses e-mail recebidos por inscrições feitas de forma indireta são classificados como HAM.\n",
        "\n",
        "**Coluna 2**: Mensagem de texto a serem classificadas"
      ]
    },
    {
      "metadata": {
        "id": "lYBUQYbc1zS3",
        "colab_type": "code",
        "colab": {
          "base_uri": "https://localhost:8080/",
          "height": 381
        },
        "outputId": "9a9070cc-cc48-4650-8417-aaf2aa79649f"
      },
      "cell_type": "code",
      "source": [
        "df = pd.read_table('https://raw.githubusercontent.com/justmarkham/DAT4/master/data/sms.tsv',\n",
        "                   sep='\\t',\n",
        "                   header=None,\n",
        "                   names=['label', 'sms_message'])\n",
        "\n",
        "print(df.shape)\n",
        "df.head(10)"
      ],
      "execution_count": 2,
      "outputs": [
        {
          "output_type": "stream",
          "text": [
            "(5572, 2)\n"
          ],
          "name": "stdout"
        },
        {
          "output_type": "execute_result",
          "data": {
            "text/html": [
              "<div>\n",
              "<style scoped>\n",
              "    .dataframe tbody tr th:only-of-type {\n",
              "        vertical-align: middle;\n",
              "    }\n",
              "\n",
              "    .dataframe tbody tr th {\n",
              "        vertical-align: top;\n",
              "    }\n",
              "\n",
              "    .dataframe thead th {\n",
              "        text-align: right;\n",
              "    }\n",
              "</style>\n",
              "<table border=\"1\" class=\"dataframe\">\n",
              "  <thead>\n",
              "    <tr style=\"text-align: right;\">\n",
              "      <th></th>\n",
              "      <th>label</th>\n",
              "      <th>sms_message</th>\n",
              "    </tr>\n",
              "  </thead>\n",
              "  <tbody>\n",
              "    <tr>\n",
              "      <th>0</th>\n",
              "      <td>ham</td>\n",
              "      <td>Go until jurong point, crazy.. Available only ...</td>\n",
              "    </tr>\n",
              "    <tr>\n",
              "      <th>1</th>\n",
              "      <td>ham</td>\n",
              "      <td>Ok lar... Joking wif u oni...</td>\n",
              "    </tr>\n",
              "    <tr>\n",
              "      <th>2</th>\n",
              "      <td>spam</td>\n",
              "      <td>Free entry in 2 a wkly comp to win FA Cup fina...</td>\n",
              "    </tr>\n",
              "    <tr>\n",
              "      <th>3</th>\n",
              "      <td>ham</td>\n",
              "      <td>U dun say so early hor... U c already then say...</td>\n",
              "    </tr>\n",
              "    <tr>\n",
              "      <th>4</th>\n",
              "      <td>ham</td>\n",
              "      <td>Nah I don't think he goes to usf, he lives aro...</td>\n",
              "    </tr>\n",
              "    <tr>\n",
              "      <th>5</th>\n",
              "      <td>spam</td>\n",
              "      <td>FreeMsg Hey there darling it's been 3 week's n...</td>\n",
              "    </tr>\n",
              "    <tr>\n",
              "      <th>6</th>\n",
              "      <td>ham</td>\n",
              "      <td>Even my brother is not like to speak with me. ...</td>\n",
              "    </tr>\n",
              "    <tr>\n",
              "      <th>7</th>\n",
              "      <td>ham</td>\n",
              "      <td>As per your request 'Melle Melle (Oru Minnamin...</td>\n",
              "    </tr>\n",
              "    <tr>\n",
              "      <th>8</th>\n",
              "      <td>spam</td>\n",
              "      <td>WINNER!! As a valued network customer you have...</td>\n",
              "    </tr>\n",
              "    <tr>\n",
              "      <th>9</th>\n",
              "      <td>spam</td>\n",
              "      <td>Had your mobile 11 months or more? U R entitle...</td>\n",
              "    </tr>\n",
              "  </tbody>\n",
              "</table>\n",
              "</div>"
            ],
            "text/plain": [
              "  label                                        sms_message\n",
              "0   ham  Go until jurong point, crazy.. Available only ...\n",
              "1   ham                      Ok lar... Joking wif u oni...\n",
              "2  spam  Free entry in 2 a wkly comp to win FA Cup fina...\n",
              "3   ham  U dun say so early hor... U c already then say...\n",
              "4   ham  Nah I don't think he goes to usf, he lives aro...\n",
              "5  spam  FreeMsg Hey there darling it's been 3 week's n...\n",
              "6   ham  Even my brother is not like to speak with me. ...\n",
              "7   ham  As per your request 'Melle Melle (Oru Minnamin...\n",
              "8  spam  WINNER!! As a valued network customer you have...\n",
              "9  spam  Had your mobile 11 months or more? U R entitle..."
            ]
          },
          "metadata": {
            "tags": []
          },
          "execution_count": 2
        }
      ]
    },
    {
      "metadata": {
        "id": "Ro_vhcp1a3pf",
        "colab_type": "text"
      },
      "cell_type": "markdown",
      "source": [
        "##Processamento dos dados\n",
        "\n",
        "Para fazer a classificação das mensagens, os marcadores \"ham\" e \"spam\" devem ser substituídos por 0 e 1, respectivamente.\n",
        "\n",
        "Sugestão: utilize a função *df.label.map* "
      ]
    },
    {
      "metadata": {
        "id": "AIpUSh-NbbCW",
        "colab_type": "code",
        "colab": {
          "base_uri": "https://localhost:8080/",
          "height": 363
        },
        "outputId": "d18e2680-c092-4353-9d0b-071392bdbf99"
      },
      "cell_type": "code",
      "source": [
        "df['label'] = df.label.map({'spam': 1, 'ham':0})\n",
        "\n",
        "df.head(10)"
      ],
      "execution_count": 3,
      "outputs": [
        {
          "output_type": "execute_result",
          "data": {
            "text/html": [
              "<div>\n",
              "<style scoped>\n",
              "    .dataframe tbody tr th:only-of-type {\n",
              "        vertical-align: middle;\n",
              "    }\n",
              "\n",
              "    .dataframe tbody tr th {\n",
              "        vertical-align: top;\n",
              "    }\n",
              "\n",
              "    .dataframe thead th {\n",
              "        text-align: right;\n",
              "    }\n",
              "</style>\n",
              "<table border=\"1\" class=\"dataframe\">\n",
              "  <thead>\n",
              "    <tr style=\"text-align: right;\">\n",
              "      <th></th>\n",
              "      <th>label</th>\n",
              "      <th>sms_message</th>\n",
              "    </tr>\n",
              "  </thead>\n",
              "  <tbody>\n",
              "    <tr>\n",
              "      <th>0</th>\n",
              "      <td>0</td>\n",
              "      <td>Go until jurong point, crazy.. Available only ...</td>\n",
              "    </tr>\n",
              "    <tr>\n",
              "      <th>1</th>\n",
              "      <td>0</td>\n",
              "      <td>Ok lar... Joking wif u oni...</td>\n",
              "    </tr>\n",
              "    <tr>\n",
              "      <th>2</th>\n",
              "      <td>1</td>\n",
              "      <td>Free entry in 2 a wkly comp to win FA Cup fina...</td>\n",
              "    </tr>\n",
              "    <tr>\n",
              "      <th>3</th>\n",
              "      <td>0</td>\n",
              "      <td>U dun say so early hor... U c already then say...</td>\n",
              "    </tr>\n",
              "    <tr>\n",
              "      <th>4</th>\n",
              "      <td>0</td>\n",
              "      <td>Nah I don't think he goes to usf, he lives aro...</td>\n",
              "    </tr>\n",
              "    <tr>\n",
              "      <th>5</th>\n",
              "      <td>1</td>\n",
              "      <td>FreeMsg Hey there darling it's been 3 week's n...</td>\n",
              "    </tr>\n",
              "    <tr>\n",
              "      <th>6</th>\n",
              "      <td>0</td>\n",
              "      <td>Even my brother is not like to speak with me. ...</td>\n",
              "    </tr>\n",
              "    <tr>\n",
              "      <th>7</th>\n",
              "      <td>0</td>\n",
              "      <td>As per your request 'Melle Melle (Oru Minnamin...</td>\n",
              "    </tr>\n",
              "    <tr>\n",
              "      <th>8</th>\n",
              "      <td>1</td>\n",
              "      <td>WINNER!! As a valued network customer you have...</td>\n",
              "    </tr>\n",
              "    <tr>\n",
              "      <th>9</th>\n",
              "      <td>1</td>\n",
              "      <td>Had your mobile 11 months or more? U R entitle...</td>\n",
              "    </tr>\n",
              "  </tbody>\n",
              "</table>\n",
              "</div>"
            ],
            "text/plain": [
              "   label                                        sms_message\n",
              "0      0  Go until jurong point, crazy.. Available only ...\n",
              "1      0                      Ok lar... Joking wif u oni...\n",
              "2      1  Free entry in 2 a wkly comp to win FA Cup fina...\n",
              "3      0  U dun say so early hor... U c already then say...\n",
              "4      0  Nah I don't think he goes to usf, he lives aro...\n",
              "5      1  FreeMsg Hey there darling it's been 3 week's n...\n",
              "6      0  Even my brother is not like to speak with me. ...\n",
              "7      0  As per your request 'Melle Melle (Oru Minnamin...\n",
              "8      1  WINNER!! As a valued network customer you have...\n",
              "9      1  Had your mobile 11 months or more? U R entitle..."
            ]
          },
          "metadata": {
            "tags": []
          },
          "execution_count": 3
        }
      ]
    },
    {
      "metadata": {
        "id": "kglSBAkKbwjv",
        "colab_type": "text"
      },
      "cell_type": "markdown",
      "source": [
        "##Tratamento das mensagens\n",
        "\n",
        "Uma vez que a base de dados utilizada possui uma coluna de textos e o classificador naive Bayes é mais eficiente para dados de entrada numéricos, é necessário fazer algumas adaptações. \n",
        "\n",
        "Para isso, uma alternativa é utilizar o método mala de palavras\" [[bag of words](https://scikit-learn.org/stable/modules/feature_extraction.html)] para contar a frequência de ocorrência de cada palavra. É válido ressaltar que esse método assume o mesmo peso para todas as palavras da \"sacola\" e não considera a ordem de ocorrência das palavras.\n",
        "\n",
        "Devem ser executados os seguintes passos:\n",
        "\n",
        "1.   Converter todas as palavras do saco para letras minúsculas\n",
        "2.   Remover a pontuação das frases\n",
        "3.   Fragmentar as frases em palavras\n",
        "4.   Contar a frequência de cada palavra\n",
        "\n",
        "Os passos apresentados ficariam assim, para a primeira mensagem da base de dados: *Go until jurong point, crazy.. Available only in bugis n great world la e buffet... Cine there got amore wat...*\n",
        "\n",
        "1.   go until jurong point, crazy.. available only in bugis n great world la e buffet... cine there got amore wat...\n",
        "2.   go until jurong point crazy available only in bugis n great world la e buffet cine there got amore wat\n",
        "3.   'go', 'until', 'jurong', 'point', 'crazy', 'available', 'only', 'in', 'bugis', 'n', 'great', 'world', 'la', 'e', 'buffet', 'cine', 'there', 'got', 'amore', 'wat'\n",
        "4.   'available': 1, 'crazy': 1, 'cine': 1, 'e': 1, 'jurong': 1, 'got': 1, 'point': 1, 'there': 1, 'la': 1, 'great': 1, 'buffet': 1, 'bugis': 1, 'wat': 1, 'only': 1, 'in': 1, 'go': 1, 'world': 1, 'n': 1, 'until': 1, 'amore': 1\n",
        "\n",
        "O método *sklearn.feature_extraction.text.CountVectorizer* simplifica esse processo. "
      ]
    },
    {
      "metadata": {
        "id": "BCdcAD6efUYX",
        "colab_type": "code",
        "colab": {}
      },
      "cell_type": "code",
      "source": [
        "# Passos 1, 2 e 3\n",
        "count_vector = CountVectorizer() #set the variable\n",
        "count_vector.fit(df['sms_message']) #fit the function\n",
        "count_vector.get_feature_names() #get the outputs\n",
        "\n",
        "# Cria um array para cada linha da base de dados contendo a contagem de palavras\n",
        "doc_array = count_vector.transform(df['sms_message']).toarray()\n",
        "\n",
        "# Converte os array obtidos em uma matrix\n",
        "frequency_matrix = pd.DataFrame(doc_array, columns = count_vector.get_feature_names())\n",
        "frequency_matrix.head(10)"
      ],
      "execution_count": 0,
      "outputs": []
    },
    {
      "metadata": {
        "id": "69cTzInG9uGR",
        "colab_type": "text"
      },
      "cell_type": "markdown",
      "source": [
        "##Classificador Naive Bayes\n",
        "\n",
        "Separe a base de dados nas variáveis *X_train*, *X_test*, *y_train* e *y_test* para realizar a classificação. Não se esqueça de definir a proporção entre o conjunto de teste e o conjunto de treinamento.\n",
        "\n",
        "A seguir, a classificação é feita usando o método *sklearn.nive_bayes* da SciKit-Learn.\n",
        "\n",
        "1. Crie uma variável *naive_bayes* e atribua a ela a chama do método *MultinomialNB()*\n",
        "2. Treine o classificador chamando o método *fit* para a variável criada. Passe como parâmetros as variáveis *train* e *y-train*\n",
        "3. Faça as predições baseada no modelo treinado chamando o método *predict* para a variável *naive_bayes*. Passe como parâmetros a variável *test*"
      ]
    },
    {
      "metadata": {
        "id": "8w2BOxdKYIPt",
        "colab_type": "code",
        "colab": {}
      },
      "cell_type": "code",
      "source": [
        ""
      ],
      "execution_count": 0,
      "outputs": []
    },
    {
      "metadata": {
        "id": "dH42551I9urH",
        "colab_type": "code",
        "colab": {}
      },
      "cell_type": "code",
      "source": [
        "\n",
        "X_train, X_test, y_train, y_test = train_test_split(df['sms_message'],\n",
        "                                                    df['label'],\n",
        "                                                    random_state=1)\n",
        "\n",
        "train = count_vector.fit_transform(X_train)\n",
        "test = count_vector.transform(X_test)\n",
        "\n",
        "# Chama o método\n",
        "naive_bayes = MultinomialNB()\n",
        "\n",
        "# Treina o classificador\n",
        "naive_bayes.fit(train, y_train)\n",
        "\n",
        "# Realiza as predições baseado no modelo treinado\n",
        "predictions = naive_bayes.predict(test)"
      ],
      "execution_count": 0,
      "outputs": []
    },
    {
      "metadata": {
        "id": "X2w0aqCGD16B",
        "colab_type": "text"
      },
      "cell_type": "markdown",
      "source": [
        "##Avaliação do modelo\n",
        "\n",
        "Para avaliar o modelo encontrado, usaremos duas métricas:\n",
        "\n",
        "*   Acurácia: razão entre o número de predições corretas e o número total de predições\n",
        "*   Precisão: razão entre o número de mensagens classificadas corretamente como SPAM\n",
        "\n",
        "Utilizando as métricas de classificação do módulo *sklearn.metrics*, encontre os valores das duas variáveis apresentadas."
      ]
    },
    {
      "metadata": {
        "id": "mO7nFkOYD2Z4",
        "colab_type": "code",
        "colab": {
          "base_uri": "https://localhost:8080/",
          "height": 53
        },
        "outputId": "cdf61ce4-fd64-4402-9bfd-a05a5a056c46"
      },
      "cell_type": "code",
      "source": [
        "acuracia = accuracy_score(y_pred=predictions, y_true=y_test)\n",
        "precisao = precision_score(y_pred=predictions, y_true=y_test)\n",
        "\n",
        "print 'Acurácia: %f' % acuracia\n",
        "print 'Precisão: %f' % precisao"
      ],
      "execution_count": 7,
      "outputs": [
        {
          "output_type": "stream",
          "text": [
            "Acurácia: 0.988514\n",
            "Precisão: 0.972067\n"
          ],
          "name": "stdout"
        }
      ]
    },
    {
      "metadata": {
        "id": "FMk9XZYLkPZm",
        "colab_type": "text"
      },
      "cell_type": "markdown",
      "source": [
        "# **Conclusão**\n",
        "\n",
        "**Prós:** \n",
        "\n",
        "\n",
        "\n",
        "1.   É fácil e rápido para prever o conjunto de dados da classe de teste. Também tem um bom desempenho na previsão de classes múltiplas.\n",
        "2.   O desempenho é bom em caso de variáveis categóricas de entrada comparada com a variáveis numéricas. Para variáveis numéricas, assume-se a distribuição normal (curva de sino, que é uma suposição forte).\n",
        "\n",
        "_____________________________________________________________________________________\n",
        "\n",
        "\n",
        "**Contras:** \n",
        "\n",
        "\n",
        "\n",
        "\n",
        "1.   Se a variável categórica tem uma categoria (no conjunto de dados de teste) que não foi observada no conjunto de dados de treinamento, então o modelo irá atribuir uma probabilidade de 0 (zero) e não será capaz de fazer uma previsão. Isso é muitas vezes conhecido como “Zero Frequency”. Para resolver isso, podemos usar a técnica de alisamento. Uma das técnicas mais simples de alisamento é a chamada estimativa de Laplace.\n",
        "2.   Por outro lado naive Bayes é também conhecido como um mau estimador, por isso, as probabilidades calculadas não devem ser levadas muito a sério.\n",
        "2. Outra limitação do Naive Bayes é a suposição de preditores independentes. Na vida real, é quase impossível que ter um conjunto de indicadores que sejam completamente independentes.\n"
      ]
    },
    {
      "metadata": {
        "id": "BdD3UVXgK397",
        "colab_type": "text"
      },
      "cell_type": "markdown",
      "source": [
        "# **Análise Discriminante Linear**\n",
        "\n",
        "A análise discriminante linear (LDA) é um método utilizado em problemas de classificação. Esta técnica utiliza uma combinação linear de características originais e se caracteriza por produzir a separação máxima entre duas populações.\n",
        "\n",
        "Enquanto a regressão logística classifica suas amostras de forma direta utizando a função logística, a LDA realiza a classificação de forma menos direta. No LDA a distribuição dos preditores $X$ é modelada separadamente em cada uma das classes de resposta (quando o  $Y$ é conhecido), então utiliza-se o teorema de Bayes para inverte-los em torno de estimativas para $Pr(Y=k|X=x)$. Quando estas distribuições são consideradas normais verifica-se que o modelo é muito parecido com a forma da regressão logística.\n",
        "\n",
        "\n",
        "A função discriminante linear é dada por:\n",
        "\n",
        "$f_i$=$\\mu_i$$C^{⁻1}$$x_k^T$$-$$0.5$$\\mu_i$$C^{⁻1}$$\\mu_i^T$$+ln(p_i)$\n",
        "\n",
        "sendo $\\mu$ o centróide de cada classe, $C$ a matriz de covariância e $p$ é estimado através da aproximação do classificador Bayes.\n",
        "\n",
        "\n",
        "A análise discriminante linear é usada principalmente nas seguintes situações:\n",
        "*   Quando tem-se mais de duas classes de resposta.\n",
        "*   Quando as classes são bem separadas, o parâmetro para o modelo de regressão logística pode ser muito instável. A LDA não tem esse problema.\n",
        "*  Se no número de amostras $n$ for pequeno e a distribuição dos preditores $X$ for aproximadamente normal, o modelo LDA é mais estável que o modelo de regressão logística.\n",
        "\n",
        "Inicialmente, iremos carregar todas as bibliotecas que iremos utilizar:"
      ]
    },
    {
      "metadata": {
        "id": "Y8ZxBgtTLSiO",
        "colab_type": "code",
        "colab": {}
      },
      "cell_type": "code",
      "source": [
        "import matplotlib.pyplot as plt\n",
        "import numpy as np\n",
        "import matplotlib.pyplot as plt\n",
        "import matplotlib as mpl\n",
        "from sklearn import datasets\n",
        "from sklearn.discriminant_analysis import LinearDiscriminantAnalysis\n",
        "from scipy import linalg\n",
        "from matplotlib import colors"
      ],
      "execution_count": 0,
      "outputs": []
    },
    {
      "metadata": {
        "id": "e1sxHhAXZH01",
        "colab_type": "text"
      },
      "cell_type": "markdown",
      "source": [
        "###Primeiro Exemplo\n",
        "\n",
        "Os dados desse notebook foram extraídos da base de dados Iris, essa base de dados tem 50 amostras de três amostras de Iris: Iris setosa, Iris virginica e Iris versicolor. Quatro características foram medidas de cada amostra: o comprimento e a largura das sépalas e pétalas, em centímetros.  Os dados nessa base estão divididos em: data, target e target_names. O valores de entrada $X$ deverão receber os valores de data, os valores de saída $y$ deverão receber os valores de target e target_name receberá os valores de target_name. "
      ]
    },
    {
      "metadata": {
        "id": "RMcFgKjCZG_f",
        "colab_type": "code",
        "colab": {}
      },
      "cell_type": "code",
      "source": [
        "iris = datasets.load_iris()\n",
        "\n",
        "# O valor de X deverá receber os valores em data da base de dados Iris\n",
        "X = iris.data\n",
        "\n",
        "\n",
        "# O valor de y deverá receber os valores em target da base de dados Iris\n",
        "y = iris.target\n",
        "\n",
        "# O valor de target_names deverá receber os nomes proveninentes da base de dados Iris\n",
        "target_names = iris.target_names"
      ],
      "execution_count": 0,
      "outputs": []
    },
    {
      "metadata": {
        "id": "BBchYnjXsteI",
        "colab_type": "code",
        "colab": {
          "base_uri": "https://localhost:8080/",
          "height": 143
        },
        "outputId": "f1433afc-a6f1-4cc7-869d-aa3bd4a9da13"
      },
      "cell_type": "code",
      "source": [
        "y"
      ],
      "execution_count": 18,
      "outputs": [
        {
          "output_type": "execute_result",
          "data": {
            "text/plain": [
              "array([0, 0, 0, 0, 0, 0, 0, 0, 0, 0, 0, 0, 0, 0, 0, 0, 0, 0, 0, 0, 0, 0,\n",
              "       0, 0, 0, 0, 0, 0, 0, 0, 0, 0, 0, 0, 0, 0, 0, 0, 0, 0, 0, 0, 0, 0,\n",
              "       0, 0, 0, 0, 0, 0, 1, 1, 1, 1, 1, 1, 1, 1, 1, 1, 1, 1, 1, 1, 1, 1,\n",
              "       1, 1, 1, 1, 1, 1, 1, 1, 1, 1, 1, 1, 1, 1, 1, 1, 1, 1, 1, 1, 1, 1,\n",
              "       1, 1, 1, 1, 1, 1, 1, 1, 1, 1, 1, 1, 2, 2, 2, 2, 2, 2, 2, 2, 2, 2,\n",
              "       2, 2, 2, 2, 2, 2, 2, 2, 2, 2, 2, 2, 2, 2, 2, 2, 2, 2, 2, 2, 2, 2,\n",
              "       2, 2, 2, 2, 2, 2, 2, 2, 2, 2, 2, 2, 2, 2, 2, 2, 2, 2])"
            ]
          },
          "metadata": {
            "tags": []
          },
          "execution_count": 18
        }
      ]
    },
    {
      "metadata": {
        "id": "Xnso1YlQdY_V",
        "colab_type": "text"
      },
      "cell_type": "markdown",
      "source": [
        "A biblioteca scikit learn possui uma implementação do algoritmo LDA, essa implementação será usada para calcular a máxima separação entre as classes. O método fit ajusta o modelo de acordo com os dados e parâmetros de treinamento fornecidos e, então, uma transformação dos dados é usada para maximizar a separação de classses. Utilize a implementação do LDA (usando a função transform) no código abaixo: "
      ]
    },
    {
      "metadata": {
        "id": "sTtHTMt4aEtY",
        "colab_type": "code",
        "colab": {}
      },
      "cell_type": "code",
      "source": [
        "lda = LinearDiscriminantAnalysis(n_components=2)\n",
        "X_r2 = lda.fit(X, y).transform(X)"
      ],
      "execution_count": 0,
      "outputs": []
    },
    {
      "metadata": {
        "id": "6CLSXhG0aYzg",
        "colab_type": "text"
      },
      "cell_type": "markdown",
      "source": [
        "Os resultados podem ser observados na figura a seguir:\n",
        "\n"
      ]
    },
    {
      "metadata": {
        "id": "27Q6x4JRaZLR",
        "colab_type": "code",
        "colab": {
          "base_uri": "https://localhost:8080/",
          "height": 362
        },
        "outputId": "1df2b1fc-c6de-45ec-b63a-af525bbc1444"
      },
      "cell_type": "code",
      "source": [
        "plt.figure()\n",
        "colors = ['navy', 'turquoise', 'darkorange']\n",
        "lw = 2\n",
        "\n",
        "for color, i, target_name in zip(colors, [0, 1, 2], target_names):\n",
        "    plt.scatter(X_r2[y == i, 0], X_r2[y == i, 1], alpha=.8, color=color,\n",
        "                label=target_name)\n",
        "plt.legend(loc='best', shadow=False, scatterpoints=1)\n",
        "plt.title('LDA of IRIS dataset')\n",
        "\n",
        "plt.show()"
      ],
      "execution_count": 16,
      "outputs": [
        {
          "output_type": "display_data",
          "data": {
            "image/png": "[encoded data removed]",
            "text/plain": [
              "<matplotlib.figure.Figure at 0x7fe1d3ae0d50>"
            ]
          },
          "metadata": {
            "tags": []
          }
        }
      ]
    },
    {
      "metadata": {
        "id": "UYSTqmtslD90",
        "colab_type": "text"
      },
      "cell_type": "markdown",
      "source": [
        "###Segundo Exemplo:\n",
        "\n",
        "Neste outro exemplo, é aplicado o LDA em dados que apresentam as seguintes características:\n",
        "*   Matriz de covariâncias iguais\n",
        "*   Matriz de covariâncias diferentes\n",
        "\n",
        "Inicialmente iremos carregar as bibliotecas que serão utilizadas:\n"
      ]
    },
    {
      "metadata": {
        "id": "aH4Bd2eD-jtA",
        "colab_type": "code",
        "colab": {}
      },
      "cell_type": "code",
      "source": [
        "from scipy import linalg\n",
        "import numpy as np\n",
        "import matplotlib.pyplot as plt\n",
        "import matplotlib as mpl\n",
        "from matplotlib import colors\n",
        "\n",
        "from sklearn.discriminant_analysis import LinearDiscriminantAnalysis"
      ],
      "execution_count": 0,
      "outputs": []
    },
    {
      "metadata": {
        "id": "-v_MiGb1-3yt",
        "colab_type": "text"
      },
      "cell_type": "markdown",
      "source": [
        "Para resolver esse problema serão geradas amostras com matriz de covariância igual e com variância diferente. A função dataset_fixed_cov gera uma matriz com covariância igual e a função dataset_cov gera uma matriz com covariância diferente.\n"
      ]
    },
    {
      "metadata": {
        "id": "hZGSWXplENzX",
        "colab_type": "code",
        "colab": {}
      },
      "cell_type": "code",
      "source": [
        "# Colormap\n",
        "cmap = colors.LinearSegmentedColormap(\n",
        "    'red_blue_classes',\n",
        "    {'red': [(0, 1, 1), (1, 0.7, 0.7)],\n",
        "     'green': [(0, 0.7, 0.7), (1, 0.7, 0.7)],\n",
        "     'blue': [(0, 0.7, 0.7), (1, 1, 1)]})\n",
        "plt.cm.register_cmap(cmap=cmap)\n",
        "\n",
        "\n",
        "# Geração das matrizes de covariância\n",
        "def dataset_fixed_cov():\n",
        "    n, dim = 300, 2\n",
        "    np.random.seed(0)\n",
        "    C = np.array([[0., -0.23], [0.83, .23]])\n",
        "    X = np.r_[np.dot(np.random.randn(n, dim), C),\n",
        "              np.dot(np.random.randn(n, dim), C) + np.array([1, 1])]\n",
        "    y = np.hstack((np.zeros(n), np.ones(n)))\n",
        "    return X, y\n",
        "\n",
        "\n",
        "def dataset_cov():\n",
        "    n, dim = 300, 2\n",
        "    np.random.seed(0)\n",
        "    C = np.array([[0., -1.], [2.5, .7]]) * 2.\n",
        "    X = np.r_[np.dot(np.random.randn(n, dim), C),\n",
        "              np.dot(np.random.randn(n, dim), C.T) + np.array([1, 4])]\n",
        "    y = np.hstack((np.zeros(n), np.ones(n)))\n",
        "    return X, y"
      ],
      "execution_count": 0,
      "outputs": []
    },
    {
      "metadata": {
        "id": "7jJkp4jJGX2i",
        "colab_type": "text"
      },
      "cell_type": "markdown",
      "source": [
        "Agora, temos agumas funções necessárias para plotar o nosso exemplo:"
      ]
    },
    {
      "metadata": {
        "id": "12PlrR7_FKJD",
        "colab_type": "code",
        "colab": {}
      },
      "cell_type": "code",
      "source": [
        "def plot_data(lda, X, y, y_pred, fig_index):\n",
        "    splot = plt.subplot(2, 2, fig_index)\n",
        "    if fig_index == 1:\n",
        "        plt.title('LDA')\n",
        "        plt.ylabel('Dados com\\n covariancia igual')\n",
        "    else:\n",
        "        plt.ylabel('Dados com\\n covariancia diferente')\n",
        "\n",
        "    tp = (y == y_pred)  \n",
        "    tp0, tp1 = tp[y == 0], tp[y == 1]\n",
        "    X0, X1 = X[y == 0], X[y == 1]\n",
        "    X0_tp, X0_fp = X0[tp0], X0[~tp0]\n",
        "    X1_tp, X1_fp = X1[tp1], X1[~tp1]\n",
        "\n",
        "    alpha = 0.5\n",
        "\n",
        "    plt.plot(X0_tp[:, 0], X0_tp[:, 1], 'o', alpha=alpha,\n",
        "             color='red', markeredgecolor='k')\n",
        "    plt.plot(X0_fp[:, 0], X0_fp[:, 1], '*', alpha=alpha,\n",
        "             color='#990000', markeredgecolor='k')  \n",
        "\n",
        "    plt.plot(X1_tp[:, 0], X1_tp[:, 1], 'o', alpha=alpha,\n",
        "             color='blue', markeredgecolor='k')\n",
        "    plt.plot(X1_fp[:, 0], X1_fp[:, 1], '*', alpha=alpha,\n",
        "             color='#000099', markeredgecolor='k') \n",
        "\n",
        "    nx, ny = 200, 100\n",
        "    x_min, x_max = plt.xlim()\n",
        "    y_min, y_max = plt.ylim()\n",
        "    xx, yy = np.meshgrid(np.linspace(x_min, x_max, nx),\n",
        "                         np.linspace(y_min, y_max, ny))\n",
        "    Z = lda.predict_proba(np.c_[xx.ravel(), yy.ravel()])\n",
        "    Z = Z[:, 1].reshape(xx.shape)\n",
        "    plt.pcolormesh(xx, yy, Z, cmap='red_blue_classes',\n",
        "                   norm=colors.Normalize(0., 1.))\n",
        "    plt.contour(xx, yy, Z, [0.5], linewidths=2., colors='k')\n",
        "\n",
        "    plt.plot(lda.means_[0][0], lda.means_[0][1],\n",
        "             'o', color='black', markersize=10, markeredgecolor='k')\n",
        "    plt.plot(lda.means_[1][0], lda.means_[1][1],\n",
        "             'o', color='black', markersize=10, markeredgecolor='k')\n",
        "\n",
        "    return splot\n",
        "\n",
        "\n",
        "def plot_ellipse(splot, mean, cov, color):\n",
        "    v, w = linalg.eigh(cov)\n",
        "    u = w[0] / linalg.norm(w[0])\n",
        "    angle = np.arctan(u[1] / u[0])\n",
        "    angle = 180 * angle / np.pi  \n",
        "    ell = mpl.patches.Ellipse(mean, 2 * v[0] ** 0.5, 2 * v[1] ** 0.5,\n",
        "                              180 + angle, facecolor=color,\n",
        "                              edgecolor='yellow',\n",
        "                              linewidth=2, zorder=2)\n",
        "    ell.set_clip_box(splot.bbox)\n",
        "    ell.set_alpha(0.5)\n",
        "    splot.add_artist(ell)\n",
        "    splot.set_xticks(())\n",
        "    splot.set_yticks(())\n",
        "\n",
        "\n",
        "def plot_lda_cov(lda, splot):\n",
        "    plot_ellipse(splot, lda.means_[0], lda.covariance_, 'red')\n",
        "    plot_ellipse(splot, lda.means_[1], lda.covariance_, 'blue')\n"
      ],
      "execution_count": 0,
      "outputs": []
    },
    {
      "metadata": {
        "id": "WPecfQ-fFsqD",
        "colab_type": "text"
      },
      "cell_type": "markdown",
      "source": [
        "Conforme dito anteriormente, a biblioteca scikit learn possui uma implementação do algoritmo LDA. O método fit ajusta o modelo de acordo com os dados e parâmetros de treinamento fornecidos e, então, a função predict será utilizada para determinar a qual classe pertence cada uma das entradas Utilize a implementação do LDA (usando a função predict) no código abaixo: "
      ]
    },
    {
      "metadata": {
        "id": "BNPq9xzXEi11",
        "colab_type": "code",
        "colab": {
          "base_uri": "https://localhost:8080/",
          "height": 369
        },
        "outputId": "8718d7be-d103-4516-f838-db6eb13a0951"
      },
      "cell_type": "code",
      "source": [
        "for i, (X, y) in enumerate([dataset_fixed_cov(), dataset_cov()]):\n",
        "    lda = LinearDiscriminantAnalysis(solver=\"svd\", store_covariance=True)\n",
        "    y_pred = lda.fit(X, y).predict(X)\n",
        "    splot = plot_data(lda, X, y, y_pred, fig_index=2 * i + 1)\n",
        "    plot_lda_cov(lda, splot)\n",
        "    plt.axis('tight')\n",
        "\n",
        "plt.suptitle('Analise Discriminante Linear')\n",
        "plt.show()\n",
        "    "
      ],
      "execution_count": 22,
      "outputs": [
        {
          "output_type": "display_data",
          "data": {
            "image/png": "[encoded data removed]",
            "text/plain": [
              "<matplotlib.figure.Figure at 0x7fe1d1982f10>"
            ]
          },
          "metadata": {
            "tags": []
          }
        }
      ]
    },
    {
      "metadata": {
        "id": "sHOXVW9JHAEe",
        "colab_type": "text"
      },
      "cell_type": "markdown",
      "source": [
        "##Conclusão:\n",
        "\n",
        "Conforme podemos observar na figura acima, o método LDA é mais eficaz para dados com matriz de covariância igual. Para dados com matriz de covariâncias diferentes, o mais indicado é utilizar o método QDA (Análise Discriminante Quadrática).\n"
      ]
    }
  ]
}